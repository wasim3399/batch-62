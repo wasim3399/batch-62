{
 "cells": [
  {
   "cell_type": "code",
   "execution_count": 3,
   "metadata": {},
   "outputs": [
    {
     "name": "stdout",
     "output_type": "stream",
     "text": [
      "[2, 3, 5]\n",
      "Hello, wasim! Let's explore your favorite numbers:\n",
      "The number 2 is even\n",
      "The number 3 is odd\n",
      "The number 5 is odd\n",
      "The number 4 and its square: (2, 4)\n",
      "The number 4 and its square: (3, 9)\n",
      "The number 4 and its square: (5, 25)\n",
      "Amazing! The sum of your favorite numbers is: 10\n"
     ]
    }
   ],
   "source": [
    "# https://github.com/JahanzaibTayyab/Batch-62/blob/main/python-learning/assignments/Number_Exploration_Tool.md\n",
    "name : str = input('Your name please ...')\n",
    "fav_numbers : list[int] = []\n",
    "while (len(fav_numbers) < 3):\n",
    "    user_number : int = int(input('Enter your favorite number'))\n",
    "\n",
    "    fav_numbers.append(user_number)\n",
    "\n",
    "\n",
    "print(fav_numbers)\n",
    "\n",
    "print(f'Hello, {name}! Let\\'s explore your favorite numbers:')\n",
    "\n",
    "for i in fav_numbers:\n",
    "    if(i%2 == 0):\n",
    "        print(f'The number {i} is even')\n",
    "    else:\n",
    "        print(f'The number {i} is odd')\n",
    "\n",
    "fav_numbers_sum = 0        \n",
    "\n",
    "for i in fav_numbers:\n",
    "    print(f'The number 4 and its square: {(i, i ** 2)}')\n",
    "    fav_numbers_sum += i\n",
    "\n",
    "print(f'Amazing! The sum of your favorite numbers is: {fav_numbers_sum}')\n",
    "\n",
    "def check_prime(num):\n",
    "    if num <=1:\n",
    "        return f'{num} is not a prime number'\n",
    "    if num == 2:\n",
    "        return f'{num} is a prime number'\n",
    "    if num % 2 == 0:\n",
    "        return f'{num} is not a prime number'\n",
    "\n",
    "    for i in range(3, int(num**0.5) + 1, 2):\n",
    "        if num % i == 0:\n",
    "            return f'{num} is not a prime number'\n",
    "    \n",
    "    return f'{num} is a prime number'\n",
    "        \n",
    "\n",
    "check_prime(fav_numbers_sum)\n"
   ]
  }
 ],
 "metadata": {
  "kernelspec": {
   "display_name": "Python 3",
   "language": "python",
   "name": "python3"
  },
  "language_info": {
   "codemirror_mode": {
    "name": "ipython",
    "version": 3
   },
   "file_extension": ".py",
   "mimetype": "text/x-python",
   "name": "python",
   "nbconvert_exporter": "python",
   "pygments_lexer": "ipython3",
   "version": "3.12.2"
  }
 },
 "nbformat": 4,
 "nbformat_minor": 2
}
