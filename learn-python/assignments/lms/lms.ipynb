{
 "cells": [
  {
   "attachments": {},
   "cell_type": "markdown",
   "metadata": {},
   "source": [
    "# Library Management System"
   ]
  },
  {
   "attachments": {},
   "cell_type": "markdown",
   "metadata": {},
   "source": [
    "## Define Global Variables"
   ]
  },
  {
   "cell_type": "code",
   "execution_count": 15,
   "metadata": {},
   "outputs": [],
   "source": [
    "from typing import Union\n",
    "Value = Union[int, str, bool] # can use Union\n",
    "\n",
    "books: list[dict[str, Value]] = [\n",
    "        {\n",
    "            'id': 1,\n",
    "            'title': 'Book One',\n",
    "            'author': 'John',\n",
    "            'genre': 'Horror',\n",
    "            'available': True\n",
    "        },\n",
    "        {\n",
    "            'id': 2,\n",
    "            'title': 'Mystery at Midnight',\n",
    "            'author': 'Emma',\n",
    "            'genre': 'Mystery',\n",
    "            'available': False\n",
    "        },\n",
    "        {\n",
    "            'id': 3,\n",
    "            'title': 'Journey to the Stars',\n",
    "            'author': 'Alex',\n",
    "            'genre': 'Science Fiction',\n",
    "            'available': True\n",
    "        },\n",
    "        {\n",
    "            'id': 4,\n",
    "            'title': 'The Forgotten Village',\n",
    "            'author': 'Sophia',\n",
    "            'genre': 'Historical Fiction',\n",
    "            'available': True\n",
    "        },\n",
    "        {\n",
    "            'id': 5,\n",
    "            'title': 'The Hidden Truth',\n",
    "            'author': 'Liam',\n",
    "            'genre': 'Thriller',\n",
    "            'available': False\n",
    "        }\n",
    "    ]\n",
    "\n",
    "users : list[dict[str, str|list|int]] = [\n",
    "        {\n",
    "            'id' : 1,\n",
    "            'name': 'wasim',\n",
    "            'borrowed_books': []\n",
    "        },\n",
    "        {\n",
    "            'id' : 2,\n",
    "            'name': 'usman',\n",
    "            'borrowed_books': []\n",
    "        },\n",
    "        {\n",
    "            'id' : 3,\n",
    "            'name': 'ali',\n",
    "            'borrowed_books': []\n",
    "        },\n",
    "        {\n",
    "            'id' : 4,\n",
    "            'name': 'qasim',\n",
    "            'borrowed_books': []\n",
    "        },\n",
    "        {\n",
    "            'id' : 5,\n",
    "            'name': 'nasir',\n",
    "            'borrowed_books': []\n",
    "        }\n",
    "    ]\n",
    "\n"
   ]
  },
  {
   "attachments": {},
   "cell_type": "markdown",
   "metadata": {},
   "source": [
    "## All Books"
   ]
  },
  {
   "cell_type": "code",
   "execution_count": 16,
   "metadata": {},
   "outputs": [],
   "source": [
    "def allBooks():\n",
    "    return books"
   ]
  },
  {
   "attachments": {},
   "cell_type": "markdown",
   "metadata": {},
   "source": [
    "## All Users"
   ]
  },
  {
   "cell_type": "code",
   "execution_count": 17,
   "metadata": {},
   "outputs": [],
   "source": [
    "def allUsers():\n",
    "    return users"
   ]
  },
  {
   "attachments": {},
   "cell_type": "markdown",
   "metadata": {},
   "source": [
    "## Search Books"
   ]
  },
  {
   "cell_type": "code",
   "execution_count": 18,
   "metadata": {},
   "outputs": [],
   "source": [
    "def searchBooks():\n",
    "    search = input(\"Enter the book title, author, genre, or ID: \").strip().lower()\n",
    "    \n",
    "    searchResults = []\n",
    "\n",
    "    def is_match(book, search):\n",
    "        \"\"\"Helper function to check if the search term matches any book attributes.\"\"\"\n",
    "        # Try matching with ID, handling non-integer inputs gracefully\n",
    "        try:\n",
    "            if int(search) == book['id']:\n",
    "                return True\n",
    "        except ValueError:\n",
    "            pass\n",
    "        \n",
    "        # Match with title, author, or genre\n",
    "        return (search in book['title'].lower() or\n",
    "                search in book['author'].lower() or\n",
    "                search in book['genre'].lower())\n",
    "\n",
    "    # Search through all books\n",
    "    for book in allBooks():\n",
    "        if is_match(book, search):\n",
    "            searchResults.append(book)\n",
    "\n",
    "    # Display results if found, otherwise show a not found message\n",
    "    if searchResults:\n",
    "        return displayResults(searchResults)\n",
    "    else:\n",
    "        print(\"No book found with that search criteria\")\n",
    "        return None\n",
    "\n",
    "# Example function to display results (to be implemented or modified according to your needs)\n",
    "def displayResults(searchResults):\n",
    "    for book in searchResults:\n",
    "        print(f\"Title: {book['title']}, Author: {book['author']}, Genre: {book['genre']}, ID: {book['id']}\")\n",
    "    return searchResults"
   ]
  },
  {
   "attachments": {},
   "cell_type": "markdown",
   "metadata": {},
   "source": [
    "## Available Books"
   ]
  },
  {
   "cell_type": "code",
   "execution_count": 19,
   "metadata": {},
   "outputs": [],
   "source": [
    "# def availableBooks():\n",
    "#     print(\"The following books are available:\")\n",
    "    \n",
    "#     available_Books = []\n",
    "#     for book in allBooks():\n",
    "#         if(book['available']):\n",
    "#             available_Books.append(book)\n",
    "#     return display(available_Books)     \n",
    "\n",
    "# availableBooks() \n",
    "\n",
    "# doing with list comperhensive\n",
    "def availableBooks():\n",
    "    # Using list comprehension to filter available books\n",
    "    available_books = [book for book in allBooks() if book['available']]\n",
    "    \n",
    "    return display(available_books)"
   ]
  },
  {
   "attachments": {},
   "cell_type": "markdown",
   "metadata": {},
   "source": [
    "## Borrow A Book"
   ]
  },
  {
   "cell_type": "code",
   "execution_count": 21,
   "metadata": {},
   "outputs": [],
   "source": [
    "def borrowBook():\n",
    "    userId = int(input(\"Enter your user id: \"))\n",
    "    # pluck all user ids\n",
    "    user_ids = [user['id'] for user in allUsers()] \n",
    "    # pluck all book ids\n",
    "    book_ids = [book['id'] for book in allBooks()]\n",
    "    if userId not in user_ids:\n",
    "        print(\"Invalid user id\")\n",
    "    else:\n",
    "        bookId = int(input(\"Enter the book id you want to borrow: \"))\n",
    "        if bookId not in book_ids:\n",
    "            print(\"Invalid book id\")\n",
    "        else:\n",
    "            selectedUser = next((user for user in users if user['id'] == userId), None)\n",
    "            selectedBook = next((book for book in books if book['id'] == bookId), None)\n",
    "\n",
    "            if not selectedBook['available']:\n",
    "                print(\"Book is not available\")\n",
    "            else:\n",
    "                # Mark the book as not available\n",
    "                for book in books:\n",
    "                    if book['id'] == bookId:\n",
    "                        book['available'] = False  # Update the original books list\n",
    "                        selectedUser['borrowed_books'].append(book['id'])\n",
    "                        print(f\"Book '{book['title']}' borrowed successfully\")\n",
    "                        break\n",
    "    display(allBooks())"
   ]
  },
  {
   "attachments": {},
   "cell_type": "markdown",
   "metadata": {},
   "source": [
    "## Test LMS"
   ]
  },
  {
   "cell_type": "code",
   "execution_count": 22,
   "metadata": {},
   "outputs": [
    {
     "name": "stdout",
     "output_type": "stream",
     "text": [
      "Welcome to the Community Library System!\n",
      "Please choose an option:\n",
      "        1. View all books\n",
      "        2. Search for a book\n",
      "        3. Available books\n",
      "        4. Borrow a book\n",
      "        5. Return a book\n",
      "        6. View all users\n",
      "        7. Exit\n",
      "All Books:\n"
     ]
    },
    {
     "data": {
      "text/plain": [
       "[{'id': 1,\n",
       "  'title': 'Book One',\n",
       "  'author': 'John',\n",
       "  'genre': 'Horror',\n",
       "  'available': True},\n",
       " {'id': 2,\n",
       "  'title': 'Mystery at Midnight',\n",
       "  'author': 'Emma',\n",
       "  'genre': 'Mystery',\n",
       "  'available': False},\n",
       " {'id': 3,\n",
       "  'title': 'Journey to the Stars',\n",
       "  'author': 'Alex',\n",
       "  'genre': 'Science Fiction',\n",
       "  'available': True},\n",
       " {'id': 4,\n",
       "  'title': 'The Forgotten Village',\n",
       "  'author': 'Sophia',\n",
       "  'genre': 'Historical Fiction',\n",
       "  'available': True},\n",
       " {'id': 5,\n",
       "  'title': 'The Hidden Truth',\n",
       "  'author': 'Liam',\n",
       "  'genre': 'Thriller',\n",
       "  'available': False}]"
      ]
     },
     "metadata": {},
     "output_type": "display_data"
    },
    {
     "name": "stdout",
     "output_type": "stream",
     "text": [
      "Please choose an option:\n",
      "        1. View all books\n",
      "        2. Search for a book\n",
      "        3. Available books\n",
      "        4. Borrow a book\n",
      "        5. Return a book\n",
      "        6. View all users\n",
      "        7. Exit\n",
      "Search Results:\n",
      "Title: Journey to the Stars, Author: Alex, Genre: Science Fiction, ID: 3\n",
      "Title: The Forgotten Village, Author: Sophia, Genre: Historical Fiction, ID: 4\n"
     ]
    },
    {
     "data": {
      "text/plain": [
       "[{'id': 3,\n",
       "  'title': 'Journey to the Stars',\n",
       "  'author': 'Alex',\n",
       "  'genre': 'Science Fiction',\n",
       "  'available': True},\n",
       " {'id': 4,\n",
       "  'title': 'The Forgotten Village',\n",
       "  'author': 'Sophia',\n",
       "  'genre': 'Historical Fiction',\n",
       "  'available': True}]"
      ]
     },
     "metadata": {},
     "output_type": "display_data"
    },
    {
     "name": "stdout",
     "output_type": "stream",
     "text": [
      "Please choose an option:\n",
      "        1. View all books\n",
      "        2. Search for a book\n",
      "        3. Available books\n",
      "        4. Borrow a book\n",
      "        5. Return a book\n",
      "        6. View all users\n",
      "        7. Exit\n",
      "Available Books\n"
     ]
    },
    {
     "data": {
      "text/plain": [
       "[{'id': 1,\n",
       "  'title': 'Book One',\n",
       "  'author': 'John',\n",
       "  'genre': 'Horror',\n",
       "  'available': True},\n",
       " {'id': 3,\n",
       "  'title': 'Journey to the Stars',\n",
       "  'author': 'Alex',\n",
       "  'genre': 'Science Fiction',\n",
       "  'available': True},\n",
       " {'id': 4,\n",
       "  'title': 'The Forgotten Village',\n",
       "  'author': 'Sophia',\n",
       "  'genre': 'Historical Fiction',\n",
       "  'available': True}]"
      ]
     },
     "metadata": {},
     "output_type": "display_data"
    },
    {
     "data": {
      "text/plain": [
       "None"
      ]
     },
     "metadata": {},
     "output_type": "display_data"
    },
    {
     "name": "stdout",
     "output_type": "stream",
     "text": [
      "Please choose an option:\n",
      "        1. View all books\n",
      "        2. Search for a book\n",
      "        3. Available books\n",
      "        4. Borrow a book\n",
      "        5. Return a book\n",
      "        6. View all users\n",
      "        7. Exit\n",
      "All Users:\n"
     ]
    },
    {
     "data": {
      "text/plain": [
       "[{'id': 1, 'name': 'wasim', 'borrowed_books': []},\n",
       " {'id': 2, 'name': 'usman', 'borrowed_books': []},\n",
       " {'id': 3, 'name': 'ali', 'borrowed_books': []},\n",
       " {'id': 4, 'name': 'qasim', 'borrowed_books': []},\n",
       " {'id': 5, 'name': 'nasir', 'borrowed_books': []}]"
      ]
     },
     "metadata": {},
     "output_type": "display_data"
    },
    {
     "name": "stdout",
     "output_type": "stream",
     "text": [
      "Please choose an option:\n",
      "        1. View all books\n",
      "        2. Search for a book\n",
      "        3. Available books\n",
      "        4. Borrow a book\n",
      "        5. Return a book\n",
      "        6. View all users\n",
      "        7. Exit\n",
      "Borrow a Book:\n",
      "Book 'Book One' borrowed successfully\n"
     ]
    },
    {
     "data": {
      "text/plain": [
       "[{'id': 1,\n",
       "  'title': 'Book One',\n",
       "  'author': 'John',\n",
       "  'genre': 'Horror',\n",
       "  'available': False},\n",
       " {'id': 2,\n",
       "  'title': 'Mystery at Midnight',\n",
       "  'author': 'Emma',\n",
       "  'genre': 'Mystery',\n",
       "  'available': False},\n",
       " {'id': 3,\n",
       "  'title': 'Journey to the Stars',\n",
       "  'author': 'Alex',\n",
       "  'genre': 'Science Fiction',\n",
       "  'available': True},\n",
       " {'id': 4,\n",
       "  'title': 'The Forgotten Village',\n",
       "  'author': 'Sophia',\n",
       "  'genre': 'Historical Fiction',\n",
       "  'available': True},\n",
       " {'id': 5,\n",
       "  'title': 'The Hidden Truth',\n",
       "  'author': 'Liam',\n",
       "  'genre': 'Thriller',\n",
       "  'available': False}]"
      ]
     },
     "metadata": {},
     "output_type": "display_data"
    },
    {
     "data": {
      "text/plain": [
       "None"
      ]
     },
     "metadata": {},
     "output_type": "display_data"
    },
    {
     "name": "stdout",
     "output_type": "stream",
     "text": [
      "Please choose an option:\n",
      "        1. View all books\n",
      "        2. Search for a book\n",
      "        3. Available books\n",
      "        4. Borrow a book\n",
      "        5. Return a book\n",
      "        6. View all users\n",
      "        7. Exit\n",
      "All Users:\n"
     ]
    },
    {
     "data": {
      "text/plain": [
       "[{'id': 1, 'name': 'wasim', 'borrowed_books': [1]},\n",
       " {'id': 2, 'name': 'usman', 'borrowed_books': []},\n",
       " {'id': 3, 'name': 'ali', 'borrowed_books': []},\n",
       " {'id': 4, 'name': 'qasim', 'borrowed_books': []},\n",
       " {'id': 5, 'name': 'nasir', 'borrowed_books': []}]"
      ]
     },
     "metadata": {},
     "output_type": "display_data"
    },
    {
     "name": "stdout",
     "output_type": "stream",
     "text": [
      "Please choose an option:\n",
      "        1. View all books\n",
      "        2. Search for a book\n",
      "        3. Available books\n",
      "        4. Borrow a book\n",
      "        5. Return a book\n",
      "        6. View all users\n",
      "        7. Exit\n",
      "Please select the correct option\n",
      "Please choose an option:\n",
      "        1. View all books\n",
      "        2. Search for a book\n",
      "        3. Available books\n",
      "        4. Borrow a book\n",
      "        5. Return a book\n",
      "        6. View all users\n",
      "        7. Exit\n",
      "Thank you for using the Community Library System!\n"
     ]
    }
   ],
   "source": [
    "def lms():\n",
    "    print('Welcome to the Community Library System!')\n",
    "    while True:\n",
    "        print(f'''Please choose an option:\n",
    "        1. View all books\n",
    "        2. Search for a book\n",
    "        3. Available books\n",
    "        4. Borrow a book\n",
    "        5. Return a book\n",
    "        6. View all users\n",
    "        7. Exit''')\n",
    "\n",
    "        choices : list[str] = ['1', '2', '3', '4', '5', '6', '7']\n",
    "        user_choice = input('Enter your choice (1-7): ')\n",
    "        \n",
    "        if(user_choice in choices):\n",
    "            if(user_choice == '1'):\n",
    "                print('All Books:')\n",
    "                display(allBooks())\n",
    "            elif(user_choice == '2'):\n",
    "                print('Search Results:')\n",
    "                display(searchBooks())\n",
    "            elif(user_choice == '3'):\n",
    "                print(\"Available Books\")\n",
    "                display(availableBooks())\n",
    "            elif(user_choice == '4'):\n",
    "                print('Borrow a Book:')\n",
    "                display(borrowBook())\n",
    "            elif(user_choice == '6'):\n",
    "                print('All Users:')\n",
    "                display(allUsers())\n",
    "            elif(user_choice == '7'):\n",
    "                print('Thank you for using the Community Library System!')\n",
    "                break\n",
    "        else:\n",
    "            print('Please select the correct option')\n",
    "\n",
    "lms()"
   ]
  }
 ],
 "metadata": {
  "kernelspec": {
   "display_name": "Python 3",
   "language": "python",
   "name": "python3"
  },
  "language_info": {
   "codemirror_mode": {
    "name": "ipython",
    "version": 3
   },
   "file_extension": ".py",
   "mimetype": "text/x-python",
   "name": "python",
   "nbconvert_exporter": "python",
   "pygments_lexer": "ipython3",
   "version": "3.12.2"
  }
 },
 "nbformat": 4,
 "nbformat_minor": 2
}
