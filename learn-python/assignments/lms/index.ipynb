{
 "cells": [
  {
   "cell_type": "markdown",
   "metadata": {},
   "source": [
    "# Library Management System"
   ]
  },
  {
   "cell_type": "code",
   "execution_count": 6,
   "metadata": {},
   "outputs": [
    {
     "data": {
      "text/plain": [
       "[{'id': 1,\n",
       "  'title': 'Book One',\n",
       "  'author': 'John',\n",
       "  'genre': 'Horror',\n",
       "  'available': True},\n",
       " {'id': 2,\n",
       "  'title': 'Mystery at Midnight',\n",
       "  'author': 'Emma',\n",
       "  'genre': 'Mystery',\n",
       "  'available': False},\n",
       " {'id': 3,\n",
       "  'title': 'Journey to the Stars',\n",
       "  'author': 'Alex',\n",
       "  'genre': 'Science Fiction',\n",
       "  'available': True},\n",
       " {'id': 4,\n",
       "  'title': 'The Forgotten Village',\n",
       "  'author': 'Sophia',\n",
       "  'genre': 'Historical Fiction',\n",
       "  'available': True},\n",
       " {'id': 5,\n",
       "  'title': 'The Hidden Truth',\n",
       "  'author': 'Liam',\n",
       "  'genre': 'Thriller',\n",
       "  'available': False}]"
      ]
     },
     "execution_count": 6,
     "metadata": {},
     "output_type": "execute_result"
    }
   ],
   "source": [
    "books : list[dict[int|str, str|bool]] = [\n",
    "    {\n",
    "        'id': 1,\n",
    "        'title': 'Book One',\n",
    "        'author': 'John',\n",
    "        'genre': 'Horror',\n",
    "        'available': True\n",
    "    },\n",
    "    {\n",
    "        'id': 2,\n",
    "        'title': 'Mystery at Midnight',\n",
    "        'author': 'Emma',\n",
    "        'genre': 'Mystery',\n",
    "        'available': False\n",
    "    },\n",
    "    {\n",
    "        'id': 3,\n",
    "        'title': 'Journey to the Stars',\n",
    "        'author': 'Alex',\n",
    "        'genre': 'Science Fiction',\n",
    "        'available': True\n",
    "    },\n",
    "    {\n",
    "        'id': 4,\n",
    "        'title': 'The Forgotten Village',\n",
    "        'author': 'Sophia',\n",
    "        'genre': 'Historical Fiction',\n",
    "        'available': True\n",
    "    },\n",
    "    {\n",
    "        'id': 5,\n",
    "        'title': 'The Hidden Truth',\n",
    "        'author': 'Liam',\n",
    "        'genre': 'Thriller',\n",
    "        'available': False\n",
    "    }\n",
    "]\n",
    "\n",
    "books"
   ]
  },
  {
   "cell_type": "code",
   "execution_count": 7,
   "metadata": {},
   "outputs": [
    {
     "data": {
      "text/plain": [
       "[{'id': 1, 'name': 'wasim', 'borrowed_books': []},\n",
       " {'id': 2, 'name': 'usman', 'borrowed_books': []},\n",
       " {'id': 3, 'name': 'ali', 'borrowed_books': []},\n",
       " {'id': 4, 'name': 'qasim', 'borrowed_books': []},\n",
       " {'id': 5, 'name': 'nasir', 'borrowed_books': []}]"
      ]
     },
     "execution_count": 7,
     "metadata": {},
     "output_type": "execute_result"
    }
   ],
   "source": [
    "users : list[dict[int|str, str|list]] = [\n",
    "    {\n",
    "        'id' : 1,\n",
    "        'name': 'wasim',\n",
    "        'borrowed_books': []\n",
    "    },\n",
    "    {\n",
    "        'id' : 2,\n",
    "        'name': 'usman',\n",
    "        'borrowed_books': []\n",
    "    },\n",
    "    {\n",
    "        'id' : 3,\n",
    "        'name': 'ali',\n",
    "        'borrowed_books': []\n",
    "    },\n",
    "    {\n",
    "        'id' : 4,\n",
    "        'name': 'qasim',\n",
    "        'borrowed_books': []\n",
    "    },\n",
    "    {\n",
    "        'id' : 5,\n",
    "        'name': 'nasir',\n",
    "        'borrowed_books': []\n",
    "    }\n",
    "]\n",
    "users"
   ]
  },
  {
   "cell_type": "code",
   "execution_count": 1,
   "metadata": {},
   "outputs": [
    {
     "name": "stdout",
     "output_type": "stream",
     "text": [
      "Welcome to the Community Library System!\n",
      "Please choose an option:\n",
      "    1. View all books\n",
      "    2. Search for a book\n",
      "    3. Borrow a book\n",
      "    4. Return a book\n",
      "    5. View all users\n",
      "    6. Exit\n",
      "You are in\n"
     ]
    }
   ],
   "source": [
    "def lms():\n",
    "    print('Welcome to the Community Library System!')\n",
    "    print(f'''Please choose an option:\n",
    "    1. View all books\n",
    "    2. Search for a book\n",
    "    3. Borrow a book\n",
    "    4. Return a book\n",
    "    5. View all users\n",
    "    6. Exit''')\n",
    "\n",
    "    choices : list[str] = ['1', '2', '3', '4', '5', '6']\n",
    "    user_choice = input('Enter your choice (1-6): ')\n",
    "    \n",
    "    if(user_choice in choices):\n",
    "        print('You are in')\n",
    "    else:\n",
    "        print('Please select the correct option')\n",
    "\n",
    "lms()"
   ]
  }
 ],
 "metadata": {
  "kernelspec": {
   "display_name": "Python 3",
   "language": "python",
   "name": "python3"
  },
  "language_info": {
   "codemirror_mode": {
    "name": "ipython",
    "version": 3
   },
   "file_extension": ".py",
   "mimetype": "text/x-python",
   "name": "python",
   "nbconvert_exporter": "python",
   "pygments_lexer": "ipython3",
   "version": "3.12.2"
  }
 },
 "nbformat": 4,
 "nbformat_minor": 2
}
