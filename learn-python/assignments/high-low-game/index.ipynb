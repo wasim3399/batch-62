{
 "cells": [
  {
   "attachments": {},
   "cell_type": "markdown",
   "metadata": {},
   "source": [
    "# High Low Game"
   ]
  },
  {
   "cell_type": "code",
   "execution_count": 27,
   "metadata": {},
   "outputs": [
    {
     "name": "stdout",
     "output_type": "stream",
     "text": [
      "Welcome to the High-Low Game!\n",
      "-----------------------------\n",
      "\n",
      "Round 1 of 3\n",
      "Invalid input. Please enter a valid number.\n",
      "Your number: 3\n",
      "Computer has chosen a number...\n",
      "Invalid input. Please choose 'higher' or 'lower'.\n",
      "Correct! The computer's number was 6.\n",
      "Your score after round 1 is: 1\n",
      "\n",
      "\n",
      "Round 2 of 3\n",
      "Your number: 44\n",
      "Computer has chosen a number...\n",
      "Correct! The computer's number was 38.\n",
      "Your score after round 2 is: 2\n",
      "\n",
      "\n",
      "Round 3 of 3\n",
      "Your number: 4\n",
      "Computer has chosen a number...\n",
      "Correct! The computer's number was 75.\n",
      "Your score after round 3 is: 3\n",
      "\n",
      "Final score: 3\n",
      "Thanks for playing!\n"
     ]
    }
   ],
   "source": [
    "import random\n",
    "\n",
    "# Constants\n",
    "NUM_ROUNDS: int = 3\n",
    "OPTIONS: list[str] = ['higher', 'lower']\n",
    "\n",
    "def get_user_number() -> int:\n",
    "    \"\"\"Get a valid number from the user between 1 and 100.\"\"\"\n",
    "    while True:\n",
    "        try:\n",
    "            number = int(input(\"Enter a number between 1 and 100: \"))\n",
    "            if 1 <= number <= 100:\n",
    "                return number\n",
    "            else:\n",
    "                print(\"Number must be between 1 and 100. Try again.\")\n",
    "        except ValueError:\n",
    "            print(\"Invalid input. Please enter a valid number.\")\n",
    "\n",
    "def get_user_guess() -> str:\n",
    "    \"\"\"Get a valid guess from the user: 'higher' or 'lower'.\"\"\"\n",
    "    while True:\n",
    "        guess = input(\"Do you think your number is higher or lower than the computer's?: \").lower()\n",
    "        if guess in OPTIONS:\n",
    "            return guess\n",
    "        print(\"Invalid input. Please choose 'higher' or 'lower'.\")\n",
    "\n",
    "def play_round(round_num: int, user_score: int) -> int:\n",
    "    \"\"\"Play a single round of the game and return the updated score.\"\"\"\n",
    "    print(f\"\\nRound {round_num} of {NUM_ROUNDS}\")\n",
    "    user_number = get_user_number()\n",
    "    computer_number = random.randint(1, 100)\n",
    "    \n",
    "    print(f'Your number: {user_number}')\n",
    "    print(f'Computer has chosen a number...')\n",
    "\n",
    "    user_guess = get_user_guess()\n",
    "\n",
    "    if (user_guess == 'higher' and user_number > computer_number) or (user_guess == 'lower' and user_number < computer_number) or (user_number == computer_number):\n",
    "        print(f'Correct! The computer\\'s number was {computer_number}.')\n",
    "        return user_score + 1\n",
    "    else:\n",
    "        print(f'Incorrect! The computer\\'s number was {computer_number}.')\n",
    "        return user_score - 1\n",
    "\n",
    "def game():\n",
    "    \"\"\"Main game loop for the High-Low Game.\"\"\"\n",
    "    print(\"Welcome to the High-Low Game!\")\n",
    "    print(\"-----------------------------\")\n",
    "\n",
    "    user_score = 0\n",
    "    for i in range(1, NUM_ROUNDS + 1):\n",
    "        user_score = play_round(i, user_score)\n",
    "        print(f'Your score after round {i} is: {user_score}\\n')\n",
    "    \n",
    "    print(f\"Final score: {user_score}\")\n",
    "    print(\"Thanks for playing!\")\n",
    "\n",
    "# Start the game\n",
    "game()\n"
   ]
  }
 ],
 "metadata": {
  "kernelspec": {
   "display_name": "python12",
   "language": "python",
   "name": "python3"
  },
  "language_info": {
   "codemirror_mode": {
    "name": "ipython",
    "version": 3
   },
   "file_extension": ".py",
   "mimetype": "text/x-python",
   "name": "python",
   "nbconvert_exporter": "python",
   "pygments_lexer": "ipython3",
   "version": "3.12.0"
  },
  "orig_nbformat": 4
 },
 "nbformat": 4,
 "nbformat_minor": 2
}
