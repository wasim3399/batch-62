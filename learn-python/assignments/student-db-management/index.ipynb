{
 "cells": [
  {
   "attachments": {},
   "cell_type": "markdown",
   "metadata": {},
   "source": [
    "# Student Database Management System"
   ]
  },
  {
   "cell_type": "code",
   "execution_count": 20,
   "metadata": {},
   "outputs": [
    {
     "name": "stdout",
     "output_type": "stream",
     "text": [
      "Welcome to the Student Database Management System!\n",
      "\n",
      "Name cannot be empty. Please enter a valid name.\n",
      "Please enter the student's name (or type 'stop' to finish): wasim\n",
      "Please enter the student's name (or type 'stop' to finish): usman\n",
      "Please enter the student's name (or type 'stop' to finish): ali\n",
      "Please enter the student's name (or type 'stop' to finish): abdullah\n",
      "The name 'wasim' already exists. Please enter a different name.\n",
      "\n",
      "Complete List of Students (Tuples):\n",
      "[(1, 'wasim'), (2, 'usman'), (3, 'ali'), (4, 'abdullah')]\n",
      "\n",
      "List of Students with IDs:\n",
      "ID: 1, Name: wasim\n",
      "ID: 2, Name: usman\n",
      "ID: 3, Name: ali\n",
      "ID: 4, Name: abdullah\n",
      "\n",
      "Total number of students: 4\n",
      "Total length of all student names combined: 21\n",
      "Student with the longest name is: abdullah\n",
      "Student with the shortest name is: ali\n"
     ]
    }
   ],
   "source": [
    "def get_student_name(existing_students: set) -> str:\n",
    "    \"\"\"Prompt the user for a student's name and validate against duplicates.\"\"\"\n",
    "    while True:\n",
    "        student_name = input(\"Please enter the student's name (or type 'stop' to finish): \").strip()\n",
    "        if student_name.lower() == 'stop':\n",
    "            return 'stop'\n",
    "        if student_name in existing_students:\n",
    "            print(f\"The name '{student_name}' already exists. Please enter a different name.\")\n",
    "        elif student_name == '':\n",
    "            print(\"Name cannot be empty. Please enter a valid name.\")\n",
    "        else:\n",
    "            return student_name\n",
    "\n",
    "def display_students(students: list[tuple[int, str]]):\n",
    "    \"\"\"Display the list of students with their IDs.\"\"\"\n",
    "    print('\\nList of Students with IDs:')\n",
    "    for student in students:\n",
    "        print(f'ID: {student[0]}, Name: {student[1]}')\n",
    "\n",
    "def find_student_with_max_length(students: list[tuple[int, str]]) -> tuple[int, str]:\n",
    "    \"\"\"Return the student tuple (ID, Name) with the longest name.\"\"\"\n",
    "    return max(students, key=lambda student: len(student[1]))\n",
    "\n",
    "def find_student_with_min_length(students: list[tuple[int, str]]) -> tuple[int, str]:\n",
    "    \"\"\"Return the student tuple (ID, Name) with the longest name.\"\"\"\n",
    "    return min(students, key=lambda student: len(student[1]))\n",
    "\n",
    "def manage_student_database():\n",
    "    students = []\n",
    "    student_names = set()  # For checking duplicates\n",
    "    student_id = 1\n",
    "\n",
    "    print(\"Welcome to the Student Database Management System!\\n\")\n",
    "\n",
    "    while True:\n",
    "        # Get and validate student name\n",
    "        student_name = get_student_name(student_names)\n",
    "        if student_name == 'stop':\n",
    "            break\n",
    "        print(f\"Please enter the student's name (or type 'stop' to finish): {student_name}\")\n",
    "\n",
    "        # Add student to the database\n",
    "        students.append((student_id, student_name))\n",
    "        student_names.add(student_name)  # Track entered names to avoid duplicates\n",
    "        student_id += 1\n",
    "\n",
    "    if not students:\n",
    "        print(\"No students added.\")\n",
    "        return\n",
    "\n",
    "    # Display the complete list of students\n",
    "    print('\\nComplete List of Students (Tuples):')\n",
    "    print(students)\n",
    "\n",
    "    # Display students with IDs and calculate total name length\n",
    "    total_name_length = sum(len(student[1]) for student in students)\n",
    "    display_students(students)\n",
    "\n",
    "    # Find and display the student with the longest name\n",
    "    max_length_student = find_student_with_max_length(students)\n",
    "    min_length_student = find_student_with_min_length(students)\n",
    "    print(f'\\nTotal number of students: {len(students)}')\n",
    "    print(f'Total length of all student names combined: {total_name_length}')\n",
    "    print(f'Student with the longest name is: {max_length_student[1]}')\n",
    "    print(f'Student with the shortest name is: {min_length_student[1]}')\n",
    "\n",
    "# Run the student database management system\n",
    "manage_student_database()\n"
   ]
  }
 ],
 "metadata": {
  "kernelspec": {
   "display_name": "python12",
   "language": "python",
   "name": "python3"
  },
  "language_info": {
   "codemirror_mode": {
    "name": "ipython",
    "version": 3
   },
   "file_extension": ".py",
   "mimetype": "text/x-python",
   "name": "python",
   "nbconvert_exporter": "python",
   "pygments_lexer": "ipython3",
   "version": "3.12.0"
  },
  "orig_nbformat": 4
 },
 "nbformat": 4,
 "nbformat_minor": 2
}
