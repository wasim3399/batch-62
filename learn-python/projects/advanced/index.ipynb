{
 "cells": [
  {
   "cell_type": "code",
   "execution_count": 6,
   "metadata": {},
   "outputs": [
    {
     "name": "stdout",
     "output_type": "stream",
     "text": [
      "Your weight on Mars is: 30.62\n"
     ]
    }
   ],
   "source": [
    "\n",
    "mars_weight : float = 0.378\n",
    "def calculate_mars_weight() -> float:\n",
    "    user_weight : float = float(input(\"Enter your weight: \"))\n",
    "\n",
    "    converted_weight : float = round(user_weight * mars_weight, 2)\n",
    "\n",
    "    return (\"Your weight on Mars is: \" + str(converted_weight))\n",
    "\n",
    "print(calculate_mars_weight())"
   ]
  },
  {
   "cell_type": "code",
   "execution_count": 18,
   "metadata": {},
   "outputs": [
    {
     "name": "stdout",
     "output_type": "stream",
     "text": [
      "Please enter a valid planet name.\n",
      "Your weight on Mars is: 30.62 kg\n",
      "Please enter a valid numerical weight.\n",
      "Exiting the program. Goodbye!\n"
     ]
    }
   ],
   "source": [
    "# Constants for gravity percentages\n",
    "GRAVITY_PERCENTAGES = {\n",
    "    \"mercury\": 37.6,\n",
    "    \"venus\": 88.9,\n",
    "    \"mars\": 37.8,\n",
    "    \"jupiter\": 236.0,\n",
    "    \"saturn\": 108.1,\n",
    "    \"uranus\": 81.5,\n",
    "    \"neptune\": 114.0\n",
    "}\n",
    "\n",
    "def calculate_weight_on_planet(weight: float, planet: str) -> str:\n",
    "    \"\"\"\n",
    "    Calculate the user's weight on a given planet.\n",
    "    \n",
    "    Args:\n",
    "        weight (float): User's weight on Earth.\n",
    "        planet (str): Planet name to calculate weight for.\n",
    "        \n",
    "    Returns:\n",
    "        str: A message with the converted weight or an error if the planet is invalid.\n",
    "    \"\"\"\n",
    "    planet = planet.lower()\n",
    "    gravity = GRAVITY_PERCENTAGES.get(planet)\n",
    "    \n",
    "    if gravity is None:\n",
    "        return \"Please enter a valid planet name.\"\n",
    "    \n",
    "    converted_weight = weight * gravity / 100\n",
    "    return f\"Your weight on {planet.capitalize()} is: {converted_weight:.2f} kg\"\n",
    "\n",
    "def get_user_input():\n",
    "    \"\"\"\n",
    "    Get user input for weight and planet name, then print the converted weight.\n",
    "    Exits if the user enters 'exit' for the planet name.\n",
    "    \"\"\"\n",
    "    while True:\n",
    "        try:\n",
    "            user_weight = float(input(\"Enter your weight (in kg): \"))\n",
    "            user_planet = input(\"Enter the planet name (or type 'exit' to quit): \").strip()\n",
    "            \n",
    "            if user_planet.lower() == \"exit\":\n",
    "                print(\"Exiting the program. Goodbye!\")\n",
    "                break\n",
    "            \n",
    "            print(calculate_weight_on_planet(user_weight, user_planet))\n",
    "        except ValueError:\n",
    "            print(\"Please enter a valid numerical weight.\")\n",
    "\n",
    "# Run the function\n",
    "get_user_input()\n"
   ]
  },
  {
   "cell_type": "code",
   "execution_count": null,
   "metadata": {},
   "outputs": [],
   "source": []
  }
 ],
 "metadata": {
  "kernelspec": {
   "display_name": "python12",
   "language": "python",
   "name": "python3"
  },
  "language_info": {
   "codemirror_mode": {
    "name": "ipython",
    "version": 3
   },
   "file_extension": ".py",
   "mimetype": "text/x-python",
   "name": "python",
   "nbconvert_exporter": "python",
   "pygments_lexer": "ipython3",
   "version": "3.12.0"
  },
  "orig_nbformat": 4
 },
 "nbformat": 4,
 "nbformat_minor": 2
}
