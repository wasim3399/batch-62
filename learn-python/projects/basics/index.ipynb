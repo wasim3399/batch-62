{
 "cells": [
  {
   "cell_type": "code",
   "execution_count": 10,
   "metadata": {},
   "outputs": [
    {
     "name": "stdout",
     "output_type": "stream",
     "text": [
      "I don't know what you mean\n",
      "This is a joke\n"
     ]
    }
   ],
   "source": [
    "# get user input and return a joke\n",
    "\n",
    "botPrompt : str = 'How can I help you?'\n",
    "joke : str = 'This is a joke'\n",
    "\n",
    "def joke_func():\n",
    "    while True:\n",
    "        user_input = input(botPrompt)\n",
    "        if user_input == 'exit':\n",
    "            break\n",
    "        elif user_input == 'joke':\n",
    "            print(joke)\n",
    "        else:\n",
    "            print('I don\\'t know what you mean')\n",
    "\n",
    "joke_func()"
   ]
  },
  {
   "cell_type": "code",
   "execution_count": 7,
   "metadata": {},
   "outputs": [
    {
     "name": "stdout",
     "output_type": "stream",
     "text": [
      "4 8 16 32 64 128 "
     ]
    }
   ],
   "source": [
    "# Double the value with validation for str and float inputs\n",
    "def double_it():\n",
    "    user_input = int(input(\"Enter a number: \"))\n",
    "\n",
    "    # Loop to double the value while it's between 0 and 100\n",
    "    while user_input < 100 and user_input > 0:\n",
    "        user_input *= 2\n",
    "        print(user_input, end=\" \")\n",
    "\n",
    "double_it()"
   ]
  },
  {
   "cell_type": "code",
   "execution_count": 18,
   "metadata": {},
   "outputs": [
    {
     "name": "stdout",
     "output_type": "stream",
     "text": [
      "10 9 8 7 6 5 4 3 2 1 Liftoff!\n"
     ]
    }
   ],
   "source": [
    "# liftoff program \n",
    "def countDown():\n",
    "    data = range(10, 0, -1)\n",
    "    for i in data:\n",
    "        print(i, end=' ')\n",
    "    print('Liftoff!')\n",
    "\n",
    "countDown()"
   ]
  },
  {
   "cell_type": "code",
   "execution_count": 10,
   "metadata": {},
   "outputs": [
    {
     "name": "stdout",
     "output_type": "stream",
     "text": [
      "Welcome to the Number Guessing Game! You have 5 attempts to guess the number.\n",
      "\n",
      "Attempt 1:\n",
      "Computer's number: 5\n",
      "Your guess: 6\n",
      "Too high. Try again!\n",
      "\n",
      "Attempt 2:\n",
      "Computer's number: 2\n",
      "Your guess: 6\n",
      "Too high. Try again!\n",
      "\n",
      "Attempt 3:\n",
      "Computer's number: 9\n",
      "Your guess: 6\n",
      "Too low. Try again!\n",
      "\n",
      "Attempt 4:\n",
      "Computer's number: 9\n",
      "Your guess: 6\n",
      "Too low. Try again!\n",
      "\n",
      "Attempt 5:\n",
      "Computer's number: 8\n",
      "Your guess: 6\n",
      "Too low. Try again!\n",
      "\n",
      "Sorry, you've used all 5 attempts.\n"
     ]
    }
   ],
   "source": [
    "import random\n",
    "\n",
    "def get_user_guess() -> int:\n",
    "    \"\"\"\n",
    "    Prompts the user to enter a valid integer guess between 1 and 9.\n",
    "    Returns:\n",
    "        int: The user's guess, or None if the user wants to exit.\n",
    "    \"\"\"\n",
    "    while True:\n",
    "        user_input = input(\"Guess a number between 1 and 9 (or type 'exit' to quit): \")\n",
    "        if user_input.lower() == \"exit\":\n",
    "            return None  # Signal to exit the game\n",
    "\n",
    "        try:\n",
    "            user_guess = int(user_input)\n",
    "            if 1 <= user_guess <= 9:\n",
    "                return user_guess\n",
    "            else:\n",
    "                print(\"Please enter a number between 1 and 9.\")\n",
    "        except ValueError:\n",
    "            print(\"Invalid input. Please enter an integer.\")\n",
    "\n",
    "def play_guessing_game():\n",
    "    \"\"\"\n",
    "    Runs the number guessing game where the user has to guess\n",
    "    a randomly generated number between 1 and 9. The user can\n",
    "    exit the game by typing 'exit', and has a maximum of 5 tries.\n",
    "    \"\"\"\n",
    "    max_attempts = 5\n",
    "    attempts = 0\n",
    "\n",
    "    print(\"Welcome to the Number Guessing Game! You have 5 attempts to guess the number.\")\n",
    "\n",
    "    while attempts < max_attempts:\n",
    "        computer_number = random.randint(1, 9)  # Generate a new target number each attempt\n",
    "        user_guess = get_user_guess()\n",
    "\n",
    "        # Exit if the user typed 'exit'\n",
    "        if user_guess is None:\n",
    "            print(\"Thanks for playing! Goodbye.\")\n",
    "            break\n",
    "\n",
    "        attempts += 1  # Increment the attempt counter\n",
    "        print(f\"\\nAttempt {attempts}:\")\n",
    "        print(f\"Computer's number: {computer_number}\")\n",
    "        print(f\"Your guess: {user_guess}\")\n",
    "\n",
    "        if computer_number > user_guess:\n",
    "            print(\"Too low. Try again!\")\n",
    "        elif computer_number < user_guess:\n",
    "            print(\"Too high. Try again!\")\n",
    "        else:\n",
    "            print(\"Congratulations! You guessed the number correctly.\")\n",
    "            break\n",
    "    else:\n",
    "        # This else block runs if the loop completes without a correct guess\n",
    "        print(f\"\\nSorry, you've used all {max_attempts} attempts.\")\n",
    "\n",
    "# Start the game\n",
    "play_guessing_game()\n"
   ]
  }
 ],
 "metadata": {
  "kernelspec": {
   "display_name": "python12",
   "language": "python",
   "name": "python3"
  },
  "language_info": {
   "codemirror_mode": {
    "name": "ipython",
    "version": 3
   },
   "file_extension": ".py",
   "mimetype": "text/x-python",
   "name": "python",
   "nbconvert_exporter": "python",
   "pygments_lexer": "ipython3",
   "version": "3.12.0"
  },
  "orig_nbformat": 4
 },
 "nbformat": 4,
 "nbformat_minor": 2
}
