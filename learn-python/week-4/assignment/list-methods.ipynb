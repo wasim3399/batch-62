{
 "cells": [
  {
   "cell_type": "code",
   "execution_count": 22,
   "metadata": {},
   "outputs": [
    {
     "name": "stdout",
     "output_type": "stream",
     "text": [
      "['Baku', 'Egypt', 'America', 'Europe', 'Dubai', 'Norway']\n",
      "['Baku', 'Egypt', 'America', 'Europe', 'Dubai', 'Norway', 'romania', 'africa']\n",
      "['Baku', 'Egypt', 'England', 'America', 'Europe', 'Dubai', 'Norway', 'romania', 'africa']\n",
      "['Baku', 'Egypt', 'America', 'Europe', 'Dubai', 'Norway', 'romania', 'africa']\n",
      "['Baku', 'Egypt', 'America', 'Europe', 'Dubai', 'romania', 'africa']\n",
      "1\n",
      "1\n",
      "['America', 'Baku', 'Dubai', 'Egypt', 'Europe', 'africa', 'romania']\n",
      "['romania', 'africa', 'Europe', 'Egypt', 'Dubai', 'Baku', 'America']\n",
      "['Norway', 'africa', 'Europe', 'Egypt', 'Dubai', 'Baku', 'America']\n",
      "['romania', 'africa', 'Europe', 'Egypt', 'Dubai', 'Baku', 'America']\n",
      "[]\n"
     ]
    }
   ],
   "source": [
    "places : list[str] = ['Baku', 'Egypt', 'America', 'Europe', 'Dubai']\n",
    "\n",
    "places.append('Norway') # adds value at the end of list\n",
    "print(places)\n",
    "\n",
    "new_places : list[str] = ['romania', 'africa']\n",
    "places.extend(new_places) # merge two lists\n",
    "print(places)\n",
    "\n",
    "places.insert(2, 'England') # insert the value at specific index\n",
    "print(places)\n",
    "\n",
    "places.remove('England') # remove specific value\n",
    "print(places)\n",
    "\n",
    "places.pop(5) # remove from the end or specific index value\n",
    "print(places)\n",
    "\n",
    "print(places.index('Egypt')) # gives index value\n",
    "\n",
    "print(places.count('Egypt')) # count specific value in a list\n",
    "\n",
    "places.sort() # originally sort the list\n",
    "print(places)\n",
    "\n",
    "places.reverse() # originally reverse the list\n",
    "print(places)\n",
    "\n",
    "new_places = places.copy() # make a shallow copy of the list\n",
    "places[0] = 'Norway'\n",
    "print(places)\n",
    "print(new_places)\n",
    "\n",
    "places.clear() # empty the list\n",
    "print(places)\n",
    "\n"
   ]
  }
 ],
 "metadata": {
  "kernelspec": {
   "display_name": "Python 3",
   "language": "python",
   "name": "python3"
  },
  "language_info": {
   "codemirror_mode": {
    "name": "ipython",
    "version": 3
   },
   "file_extension": ".py",
   "mimetype": "text/x-python",
   "name": "python",
   "nbconvert_exporter": "python",
   "pygments_lexer": "ipython3",
   "version": "3.12.2"
  }
 },
 "nbformat": 4,
 "nbformat_minor": 2
}
