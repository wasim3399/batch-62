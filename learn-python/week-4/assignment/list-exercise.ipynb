{
 "cells": [
  {
   "cell_type": "code",
   "execution_count": 22,
   "metadata": {},
   "outputs": [
    {
     "name": "stdout",
     "output_type": "stream",
     "text": [
      "ali\n",
      "Hello ali\n",
      "usman\n",
      "Hello usman\n",
      "ehsan\n",
      "Hello ehsan\n"
     ]
    }
   ],
   "source": [
    "# 1 - 2.\n",
    "names : list[str] = ['ali', 'usman', 'ehsan']\n",
    "for name in names:\n",
    "    print(name)\n",
    "    print(f'Hello {name}')"
   ]
  },
  {
   "cell_type": "code",
   "execution_count": 23,
   "metadata": {},
   "outputs": [
    {
     "name": "stdout",
     "output_type": "stream",
     "text": [
      "I would like to have bike\n",
      "I would like to have car\n",
      "I would like to have jeep\n"
     ]
    }
   ],
   "source": [
    "# 3. \n",
    "vehicles : list[str] = ['bike', 'car', 'jeep']\n",
    "for vehicle in vehicles:\n",
    "    print(f'I would like to have {vehicle}')"
   ]
  },
  {
   "cell_type": "code",
   "execution_count": 116,
   "metadata": {},
   "outputs": [
    {
     "name": "stdout",
     "output_type": "stream",
     "text": [
      "Welcome ali to my home\n",
      "Welcome usman to my home\n",
      "Welcome ehsan to my home\n",
      "usman\n",
      "Welcome ali to my home\n",
      "Welcome Nasir to my home\n",
      "Welcome ehsan to my home\n"
     ]
    }
   ],
   "source": [
    "# 4 - 5.\n",
    "guests : list[str] = ['ali', 'usman', 'ehsan']\n",
    "for guest in guests:\n",
    "    print(f'Welcome {guest} to my home')\n",
    "\n",
    "# not able to attend any events\n",
    "print(guests[1])\n",
    "\n",
    "guests[1] = 'Nasir'\n",
    "for guest in guests:\n",
    "    print(f'Welcome {guest} to my home')"
   ]
  },
  {
   "cell_type": "code",
   "execution_count": 117,
   "metadata": {},
   "outputs": [
    {
     "name": "stdout",
     "output_type": "stream",
     "text": [
      "['kashif', 'ali', 'subhan', 'Nasir', 'ehsan', 'hanan']\n"
     ]
    }
   ],
   "source": [
    "# 6.\n",
    "guests.insert(0, 'kashif')\n",
    "guests.insert(2, 'subhan')\n",
    "guests.append('hanan')\n",
    "\n",
    "print(guests)"
   ]
  },
  {
   "cell_type": "code",
   "execution_count": 130,
   "metadata": {},
   "outputs": [
    {
     "name": "stdout",
     "output_type": "stream",
     "text": [
      "You can invite only two people for dinner\n",
      "Sorry Mr. hanan\n",
      "Sorry Mr. ehsan\n",
      "Sorry Mr. Nasir\n",
      "Sorry Mr. subhan\n",
      "Mr. kashif, you are still invited to the event\n",
      "Mr. ali, you are still invited to the event\n",
      "[]\n"
     ]
    }
   ],
   "source": [
    "# 7.\n",
    "print('You can invite only two people for dinner')\n",
    "\n",
    "guests : list[str] = ['kashif', 'ali', 'subhan', 'Nasir', 'ehsan', 'hanan']\n",
    "\n",
    "count = len(guests)\n",
    "while len(guests) > 2:\n",
    "    print(f'Sorry Mr. {guests[-1]}')\n",
    "    guests.pop()\n",
    "\n",
    "for guest in guests:\n",
    "    print(f'Mr. {guest}, you are still invited to the event')\n",
    "\n",
    "while guests:\n",
    "    del guests[0]\n",
    "\n",
    "print(guests)"
   ]
  },
  {
   "cell_type": "code",
   "execution_count": 143,
   "metadata": {},
   "outputs": [
    {
     "name": "stdout",
     "output_type": "stream",
     "text": [
      "['Baku', 'Egypt', 'America', 'Europe', 'Dubai']\n",
      "['America', 'Baku', 'Dubai', 'Egypt', 'Europe']\n",
      "['Baku', 'Egypt', 'America', 'Europe', 'Dubai']\n",
      "['Europe', 'Egypt', 'Dubai', 'Baku', 'America']\n",
      "['Baku', 'Egypt', 'America', 'Europe', 'Dubai']\n",
      "['Dubai', 'Europe', 'America', 'Egypt', 'Baku']\n",
      "['America', 'Baku', 'Dubai', 'Egypt', 'Europe']\n",
      "['Europe', 'Egypt', 'Dubai', 'Baku', 'America']\n"
     ]
    }
   ],
   "source": [
    "# 8. sorted not changes the original list. While sort changes the original.\n",
    "fav_places : list[str] = ['Baku', 'Egypt', 'America', 'Europe', 'Dubai']\n",
    "\n",
    "print(fav_places)\n",
    "\n",
    "print(sorted(fav_places))\n",
    "\n",
    "print(fav_places)\n",
    "\n",
    "print(sorted(fav_places, reverse=True))\n",
    "\n",
    "print(fav_places)\n",
    "\n",
    "fav_places.reverse()\n",
    "\n",
    "print(fav_places)\n",
    "\n",
    "fav_places.sort()\n",
    "\n",
    "print(fav_places)\n",
    "\n",
    "fav_places.sort(reverse=True)\n",
    "\n",
    "print(fav_places)"
   ]
  },
  {
   "cell_type": "code",
   "execution_count": 1,
   "metadata": {},
   "outputs": [
    {
     "name": "stdout",
     "output_type": "stream",
     "text": [
      "Original list of countries: ['Sweden', 'Norway', 'Denmark', 'Finland', 'Iceland']\n",
      "First country: Sweden\n",
      "Last country: Iceland\n",
      "Modified list of countries: ['Sweden', 'Norway', 'Greenland', 'Finland', 'Iceland']\n",
      "List after adding Estonia: ['Sweden', 'Norway', 'Greenland', 'Finland', 'Iceland', 'Estonia']\n",
      "List after inserting Denmark at index 2: ['Sweden', 'Norway', 'Denmark', 'Greenland', 'Finland', 'Iceland', 'Estonia']\n",
      "List after removing Greenland: ['Sweden', 'Norway', 'Denmark', 'Finland', 'Iceland', 'Estonia']\n",
      "Popped country: Estonia\n",
      "List after popping the last country: ['Sweden', 'Norway', 'Denmark', 'Finland', 'Iceland']\n",
      "Alphabetically sorted list: ['Denmark', 'Finland', 'Iceland', 'Norway', 'Sweden']\n",
      "Reversed list: ['Sweden', 'Norway', 'Iceland', 'Finland', 'Denmark']\n",
      "Reverse alphabetically sorted list: ['Sweden', 'Norway', 'Iceland', 'Finland', 'Denmark']\n",
      "Number of countries in the list: 5\n",
      "First three countries: ['Sweden', 'Norway', 'Iceland']\n",
      "Iterating over the list of countries:\n",
      "Sweden\n",
      "Norway\n",
      "Iceland\n",
      "Finland\n",
      "Denmark\n"
     ]
    }
   ],
   "source": [
    "# 9.\n",
    "\n",
    "# Create a list of countries\n",
    "countries = ['Sweden', 'Norway', 'Denmark', 'Finland', 'Iceland']\n",
    "\n",
    "# 1. Print the original list\n",
    "print(\"Original list of countries:\", countries)\n",
    "\n",
    "# 2. Accessing elements by index\n",
    "first_country = countries[0]\n",
    "print(\"First country:\", first_country)\n",
    "\n",
    "last_country = countries[-1]\n",
    "print(\"Last country:\", last_country)\n",
    "\n",
    "# 3. Modifying an element in the list\n",
    "countries[2] = 'Greenland'\n",
    "print(\"Modified list of countries:\", countries)\n",
    "\n",
    "# 4. Adding elements to the list\n",
    "countries.append('Estonia')\n",
    "print(\"List after adding Estonia:\", countries)\n",
    "\n",
    "# 5. Inserting elements into the list\n",
    "countries.insert(2, 'Denmark')\n",
    "print(\"List after inserting Denmark at index 2:\", countries)\n",
    "\n",
    "# 6. Removing an element by value\n",
    "countries.remove('Greenland')\n",
    "print(\"List after removing Greenland:\", countries)\n",
    "\n",
    "# 7. Removing an element by index\n",
    "popped_country = countries.pop()\n",
    "print(\"Popped country:\", popped_country)\n",
    "print(\"List after popping the last country:\", countries)\n",
    "\n",
    "# 8. Sorting the list alphabetically\n",
    "countries.sort()\n",
    "print(\"Alphabetically sorted list:\", countries)\n",
    "\n",
    "# 9. Reversing the list\n",
    "countries.reverse()\n",
    "print(\"Reversed list:\", countries)\n",
    "\n",
    "# 10. Sorting the list in reverse alphabetical order\n",
    "countries.sort(reverse=True)\n",
    "print(\"Reverse alphabetically sorted list:\", countries)\n",
    "\n",
    "# 11. Finding the length of the list\n",
    "num_countries = len(countries)\n",
    "print(\"Number of countries in the list:\", num_countries)\n",
    "\n",
    "# 12. Slicing the list\n",
    "first_three_countries = countries[:3]\n",
    "print(\"First three countries:\", first_three_countries)\n",
    "\n",
    "# 13. Iterating over the list\n",
    "print(\"Iterating over the list of countries:\")\n",
    "for country in countries:\n",
    "    print(country)\n"
   ]
  },
  {
   "cell_type": "code",
   "execution_count": 4,
   "metadata": {},
   "outputs": [
    {
     "name": "stdout",
     "output_type": "stream",
     "text": [
      "['Sweden', 'Norway', 'Iceland', 'Finland', 'Denmark']\n"
     ]
    },
    {
     "ename": "IndexError",
     "evalue": "list index out of range",
     "output_type": "error",
     "traceback": [
      "\u001b[1;31m---------------------------------------------------------------------------\u001b[0m",
      "\u001b[1;31mIndexError\u001b[0m                                Traceback (most recent call last)",
      "Cell \u001b[1;32mIn[4], line 3\u001b[0m\n\u001b[0;32m      1\u001b[0m \u001b[38;5;66;03m# 10.\u001b[39;00m\n\u001b[0;32m      2\u001b[0m \u001b[38;5;28mprint\u001b[39m(countries)\n\u001b[1;32m----> 3\u001b[0m \u001b[38;5;28mprint\u001b[39m(\u001b[43mcountries\u001b[49m\u001b[43m[\u001b[49m\u001b[38;5;241;43m5\u001b[39;49m\u001b[43m]\u001b[49m)\n\u001b[0;32m      4\u001b[0m countries\u001b[38;5;241m.\u001b[39mappend(\u001b[38;5;124m'\u001b[39m\u001b[38;5;124mAmerica\u001b[39m\u001b[38;5;124m'\u001b[39m)\n\u001b[0;32m      5\u001b[0m \u001b[38;5;28mprint\u001b[39m(countries[\u001b[38;5;241m5\u001b[39m])\n",
      "\u001b[1;31mIndexError\u001b[0m: list index out of range"
     ]
    }
   ],
   "source": [
    "# 10.\n",
    "print(countries)\n",
    "print(countries[5])"
   ]
  },
  {
   "cell_type": "code",
   "execution_count": 5,
   "metadata": {},
   "outputs": [
    {
     "name": "stdout",
     "output_type": "stream",
     "text": [
      "America\n"
     ]
    }
   ],
   "source": [
    "countries.append('America')\n",
    "print(countries[5])"
   ]
  }
 ],
 "metadata": {
  "kernelspec": {
   "display_name": "python12",
   "language": "python",
   "name": "python3"
  },
  "language_info": {
   "codemirror_mode": {
    "name": "ipython",
    "version": 3
   },
   "file_extension": ".py",
   "mimetype": "text/x-python",
   "name": "python",
   "nbconvert_exporter": "python",
   "pygments_lexer": "ipython3",
   "version": "3.12.0"
  },
  "orig_nbformat": 4
 },
 "nbformat": 4,
 "nbformat_minor": 2
}
