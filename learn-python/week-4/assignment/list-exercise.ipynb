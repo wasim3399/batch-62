{
 "cells": [
  {
   "cell_type": "code",
   "execution_count": 22,
   "metadata": {},
   "outputs": [
    {
     "name": "stdout",
     "output_type": "stream",
     "text": [
      "ali\n",
      "Hello ali\n",
      "usman\n",
      "Hello usman\n",
      "ehsan\n",
      "Hello ehsan\n"
     ]
    }
   ],
   "source": [
    "# 1 - 2.\n",
    "names : list[str] = ['ali', 'usman', 'ehsan']\n",
    "for name in names:\n",
    "    print(name)\n",
    "    print(f'Hello {name}')"
   ]
  },
  {
   "cell_type": "code",
   "execution_count": 23,
   "metadata": {},
   "outputs": [
    {
     "name": "stdout",
     "output_type": "stream",
     "text": [
      "I would like to have bike\n",
      "I would like to have car\n",
      "I would like to have jeep\n"
     ]
    }
   ],
   "source": [
    "# 3. \n",
    "vehicles : list[str] = ['bike', 'car', 'jeep']\n",
    "for vehicle in vehicles:\n",
    "    print(f'I would like to have {vehicle}')"
   ]
  },
  {
   "cell_type": "code",
   "execution_count": 116,
   "metadata": {},
   "outputs": [
    {
     "name": "stdout",
     "output_type": "stream",
     "text": [
      "Welcome ali to my home\n",
      "Welcome usman to my home\n",
      "Welcome ehsan to my home\n",
      "usman\n",
      "Welcome ali to my home\n",
      "Welcome Nasir to my home\n",
      "Welcome ehsan to my home\n"
     ]
    }
   ],
   "source": [
    "# 4 - 5.\n",
    "guests : list[str] = ['ali', 'usman', 'ehsan']\n",
    "for guest in guests:\n",
    "    print(f'Welcome {guest} to my home')\n",
    "\n",
    "# not able to attend any events\n",
    "print(guests[1])\n",
    "\n",
    "guests[1] = 'Nasir'\n",
    "for guest in guests:\n",
    "    print(f'Welcome {guest} to my home')"
   ]
  },
  {
   "cell_type": "code",
   "execution_count": 117,
   "metadata": {},
   "outputs": [
    {
     "name": "stdout",
     "output_type": "stream",
     "text": [
      "['kashif', 'ali', 'subhan', 'Nasir', 'ehsan', 'hanan']\n"
     ]
    }
   ],
   "source": [
    "# 6.\n",
    "guests.insert(0, 'kashif')\n",
    "guests.insert(2, 'subhan')\n",
    "guests.append('hanan')\n",
    "\n",
    "print(guests)"
   ]
  },
  {
   "cell_type": "code",
   "execution_count": 130,
   "metadata": {},
   "outputs": [
    {
     "name": "stdout",
     "output_type": "stream",
     "text": [
      "You can invite only two people for dinner\n",
      "Sorry Mr. hanan\n",
      "Sorry Mr. ehsan\n",
      "Sorry Mr. Nasir\n",
      "Sorry Mr. subhan\n",
      "Mr. kashif, you are still invited to the event\n",
      "Mr. ali, you are still invited to the event\n",
      "[]\n"
     ]
    }
   ],
   "source": [
    "# 7.\n",
    "print('You can invite only two people for dinner')\n",
    "\n",
    "guests : list[str] = ['kashif', 'ali', 'subhan', 'Nasir', 'ehsan', 'hanan']\n",
    "\n",
    "count = len(guests)\n",
    "while len(guests) > 2:\n",
    "    print(f'Sorry Mr. {guests[-1]}')\n",
    "    guests.pop()\n",
    "\n",
    "for guest in guests:\n",
    "    print(f'Mr. {guest}, you are still invited to the event')\n",
    "\n",
    "while guests:\n",
    "    del guests[0]\n",
    "\n",
    "print(guests)"
   ]
  },
  {
   "cell_type": "code",
   "execution_count": 143,
   "metadata": {},
   "outputs": [
    {
     "name": "stdout",
     "output_type": "stream",
     "text": [
      "['Baku', 'Egypt', 'America', 'Europe', 'Dubai']\n",
      "['America', 'Baku', 'Dubai', 'Egypt', 'Europe']\n",
      "['Baku', 'Egypt', 'America', 'Europe', 'Dubai']\n",
      "['Europe', 'Egypt', 'Dubai', 'Baku', 'America']\n",
      "['Baku', 'Egypt', 'America', 'Europe', 'Dubai']\n",
      "['Dubai', 'Europe', 'America', 'Egypt', 'Baku']\n",
      "['America', 'Baku', 'Dubai', 'Egypt', 'Europe']\n",
      "['Europe', 'Egypt', 'Dubai', 'Baku', 'America']\n"
     ]
    }
   ],
   "source": [
    "# 8. sorted not changes the original list. While sort changes the original.\n",
    "fav_places : list[str] = ['Baku', 'Egypt', 'America', 'Europe', 'Dubai']\n",
    "\n",
    "print(fav_places)\n",
    "\n",
    "print(sorted(fav_places))\n",
    "\n",
    "print(fav_places)\n",
    "\n",
    "print(sorted(fav_places, reverse=True))\n",
    "\n",
    "print(fav_places)\n",
    "\n",
    "fav_places.reverse()\n",
    "\n",
    "print(fav_places)\n",
    "\n",
    "fav_places.sort()\n",
    "\n",
    "print(fav_places)\n",
    "\n",
    "fav_places.sort(reverse=True)\n",
    "\n",
    "print(fav_places)"
   ]
  }
 ],
 "metadata": {
  "kernelspec": {
   "display_name": "python12",
   "language": "python",
   "name": "python3"
  },
  "language_info": {
   "codemirror_mode": {
    "name": "ipython",
    "version": 3
   },
   "file_extension": ".py",
   "mimetype": "text/x-python",
   "name": "python",
   "nbconvert_exporter": "python",
   "pygments_lexer": "ipython3",
   "version": "3.12.0"
  },
  "orig_nbformat": 4
 },
 "nbformat": 4,
 "nbformat_minor": 2
}
