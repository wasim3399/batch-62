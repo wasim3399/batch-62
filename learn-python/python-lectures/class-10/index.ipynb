{
 "cells": [
  {
   "cell_type": "code",
   "execution_count": 3,
   "metadata": {},
   "outputs": [
    {
     "data": {
      "text/plain": [
       "66"
      ]
     },
     "execution_count": 3,
     "metadata": {},
     "output_type": "execute_result"
    }
   ],
   "source": [
    "chr(90)\n",
    "ord('B')"
   ]
  },
  {
   "attachments": {},
   "cell_type": "markdown",
   "metadata": {},
   "source": [
    "# lambda functions (same as anonymous function in javascript)\n",
    "* one line function\n",
    "* without name function\n",
    "* only use in this line"
   ]
  },
  {
   "cell_type": "code",
   "execution_count": 5,
   "metadata": {},
   "outputs": [
    {
     "name": "stdout",
     "output_type": "stream",
     "text": [
      "8\n"
     ]
    }
   ],
   "source": [
    "my_function = lambda num1, num2 : num1 * num2\n",
    "print(my_function(2, 4))"
   ]
  },
  {
   "cell_type": "code",
   "execution_count": 7,
   "metadata": {},
   "outputs": [
    {
     "name": "stdout",
     "output_type": "stream",
     "text": [
      "[1, 4, 9, 16]\n"
     ]
    }
   ],
   "source": [
    "my_list : list[int] = [1, 2, 3, 4]\n",
    "data = list(map(lambda x : x**2, my_list))\n",
    "print(data)"
   ]
  },
  {
   "cell_type": "code",
   "execution_count": 8,
   "metadata": {},
   "outputs": [
    {
     "name": "stdout",
     "output_type": "stream",
     "text": [
      "[2, 4]\n"
     ]
    }
   ],
   "source": [
    "my_list : list[int] = [1, 2, 3, 4]\n",
    "data = list(filter(lambda x : x%2 == 0, my_list))\n",
    "print(data)"
   ]
  },
  {
   "cell_type": "code",
   "execution_count": 9,
   "metadata": {},
   "outputs": [
    {
     "name": "stdout",
     "output_type": "stream",
     "text": [
      "14\n"
     ]
    }
   ],
   "source": [
    "from typing import Callable\n",
    "\n",
    "add : Callable[[int, int], int] = lambda x, y : x + y\n",
    "result = add(5, 9)\n",
    "print(result)"
   ]
  },
  {
   "attachments": {},
   "cell_type": "markdown",
   "metadata": {},
   "source": [
    "# Generator functions\n",
    "* iterate one by one\n",
    "* stop after each iteration\n",
    "* remember last iteration value\n",
    "* next iteration\n",
    "    * go forward from last iterate value\n",
    "\n",
    "## Ref: https://stackoverflow.com/questions/74774919/proper-typing-for-a-interesting-yield-function"
   ]
  },
  {
   "cell_type": "code",
   "execution_count": 22,
   "metadata": {},
   "outputs": [
    {
     "name": "stdout",
     "output_type": "stream",
     "text": [
      "<generator object my_range at 0x111cb22f0>\n",
      "[1, 2, 3, 4, 5, 6, 7, 8, 9, 10]\n"
     ]
    }
   ],
   "source": [
    "def my_range(start : int, end : int, step : int = 1):\n",
    "    for i in range(start, end + 1, step):\n",
    "        yield i # generator function\n",
    "\n",
    "iterative_variable = my_range(1, 10)\n",
    "print(iterative_variable)\n",
    "print(list(iterative_variable))"
   ]
  },
  {
   "cell_type": "code",
   "execution_count": 23,
   "metadata": {},
   "outputs": [
    {
     "name": "stdout",
     "output_type": "stream",
     "text": [
      "<generator object my_range at 0x111cb1b70>\n",
      "1\n",
      "2\n",
      "hello\n",
      "3\n"
     ]
    }
   ],
   "source": [
    "iterative_variable = my_range(1, 20)\n",
    "print(a)\n",
    "print(next(iterative_variable))\n",
    "print(next(iterative_variable))\n",
    "print('hello')\n",
    "print(next(iterative_variable))"
   ]
  },
  {
   "cell_type": "code",
   "execution_count": 25,
   "metadata": {},
   "outputs": [
    {
     "name": "stdout",
     "output_type": "stream",
     "text": [
      "<generator object my_range at 0x111cb22f0>\n",
      "1\n"
     ]
    },
    {
     "data": {
      "text/plain": [
       "['__class__',\n",
       " '__del__',\n",
       " '__delattr__',\n",
       " '__dir__',\n",
       " '__doc__',\n",
       " '__eq__',\n",
       " '__format__',\n",
       " '__ge__',\n",
       " '__getattribute__',\n",
       " '__getstate__',\n",
       " '__gt__',\n",
       " '__hash__',\n",
       " '__init__',\n",
       " '__init_subclass__',\n",
       " '__iter__',\n",
       " '__le__',\n",
       " '__lt__',\n",
       " '__name__',\n",
       " '__ne__',\n",
       " '__new__',\n",
       " '__next__',\n",
       " '__qualname__',\n",
       " '__reduce__',\n",
       " '__reduce_ex__',\n",
       " '__repr__',\n",
       " '__setattr__',\n",
       " '__sizeof__',\n",
       " '__str__',\n",
       " '__subclasshook__',\n",
       " 'close',\n",
       " 'gi_code',\n",
       " 'gi_frame',\n",
       " 'gi_running',\n",
       " 'gi_suspended',\n",
       " 'gi_yieldfrom',\n",
       " 'send',\n",
       " 'throw']"
      ]
     },
     "metadata": {},
     "output_type": "display_data"
    },
    {
     "name": "stdout",
     "output_type": "stream",
     "text": [
      "2\n",
      "3\n",
      "4\n",
      "5\n",
      "6\n",
      "7\n",
      "8\n",
      "9\n",
      "10\n"
     ]
    }
   ],
   "source": [
    "from collections.abc import Iterator\n",
    "def my_range(start : int, end : int, step : int = 1)->Iterator[int]:\n",
    "    for i in range(start, end + 1, step):\n",
    "        yield i # generator function\n",
    "\n",
    "iterative_variable : Iterator[int] = my_range(1, 10)\n",
    "print(iterative_variable)\n",
    "print(next(iterative_variable))\n",
    "display(dir(iterative_variable))\n",
    "\n",
    "for i in iterative_variable:\n",
    "    print(i)"
   ]
  },
  {
   "attachments": {},
   "cell_type": "markdown",
   "metadata": {},
   "source": [
    "# passing unlimited variables/arguments to the function\n",
    "* *arg used for unlimited arguments to the function but return in the form of tuple\n",
    "* **arg used for unlimited arguments to the function but return in the form of dictionary"
   ]
  },
  {
   "cell_type": "code",
   "execution_count": 31,
   "metadata": {},
   "outputs": [
    {
     "name": "stdout",
     "output_type": "stream",
     "text": [
      "('a', 'b', 'c', 'd', 'e', 'f')\n",
      "a\n",
      "b\n",
      "c\n",
      "d\n",
      "e\n",
      "f\n"
     ]
    }
   ],
   "source": [
    "# unlimited arguments with defining type\n",
    "from typing import Tuple\n",
    "def myFunction(*args : Tuple[str, ...]) -> None :\n",
    "    print(args)\n",
    "    for i in args :\n",
    "        print(i)\n",
    "\n",
    "myFunction('a', 'b', 'c', 'd', 'e', 'f')"
   ]
  },
  {
   "cell_type": "code",
   "execution_count": 30,
   "metadata": {},
   "outputs": [
    {
     "name": "stdout",
     "output_type": "stream",
     "text": [
      "{'name': 'wasim', 'code': 'code'}\n",
      "name\n",
      "code\n"
     ]
    }
   ],
   "source": [
    "# unlimited arguments with defining type\n",
    "def myFunction(**args : dict[str, str]) -> None :\n",
    "    print(args)\n",
    "    for i in args :\n",
    "        print(i)\n",
    "\n",
    "myFunction(name = 'wasim', code = 'code')"
   ]
  },
  {
   "attachments": {},
   "cell_type": "markdown",
   "metadata": {},
   "source": [
    "# High Order Functions - to study\n",
    "* a function that return a function"
   ]
  },
  {
   "attachments": {},
   "cell_type": "markdown",
   "metadata": {},
   "source": [
    "# Revision"
   ]
  },
  {
   "cell_type": "code",
   "execution_count": 2,
   "metadata": {},
   "outputs": [
    {
     "data": {
      "text/plain": [
       "7"
      ]
     },
     "execution_count": 2,
     "metadata": {},
     "output_type": "execute_result"
    }
   ],
   "source": [
    "# lambda functions with typing\n",
    "from typing import Callable\n",
    "\n",
    "add : Callable[[int, int], int] = lambda x, y: x + y\n",
    "\n",
    "add(3, 4)"
   ]
  },
  {
   "cell_type": "code",
   "execution_count": 6,
   "metadata": {},
   "outputs": [
    {
     "name": "stdout",
     "output_type": "stream",
     "text": [
      "1\n",
      "2\n"
     ]
    }
   ],
   "source": [
    "from collections.abc import Iterator\n",
    "\n",
    "def my_range(start : int, end : int, step : int = 1) -> Iterator[int]:\n",
    "    for i in range(start, end, step):\n",
    "        yield i\n",
    "\n",
    "a = my_range(1, 10)\n",
    "print(next(a))\n",
    "print(next(a))"
   ]
  },
  {
   "cell_type": "code",
   "execution_count": 12,
   "metadata": {},
   "outputs": [
    {
     "data": {
      "text/plain": [
       "[False, True, False, True, False]"
      ]
     },
     "execution_count": 12,
     "metadata": {},
     "output_type": "execute_result"
    }
   ],
   "source": [
    "b : list[int] = [1, 2, 3, 4, 5]\n",
    "even_numbers = map(lambda x: x % 2 == 0, b)\n",
    "list(even_numbers)\n"
   ]
  }
 ],
 "metadata": {
  "kernelspec": {
   "display_name": "python12",
   "language": "python",
   "name": "python3"
  },
  "language_info": {
   "codemirror_mode": {
    "name": "ipython",
    "version": 3
   },
   "file_extension": ".py",
   "mimetype": "text/x-python",
   "name": "python",
   "nbconvert_exporter": "python",
   "pygments_lexer": "ipython3",
   "version": "3.12.0"
  },
  "orig_nbformat": 4
 },
 "nbformat": 4,
 "nbformat_minor": 2
}
