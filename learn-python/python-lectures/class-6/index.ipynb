{
 "cells": [
  {
   "cell_type": "markdown",
   "id": "1e8ddf59-1059-407c-8d11-51e60541d291",
   "metadata": {},
   "source": [
    "# if else statements, tuple and zip"
   ]
  },
  {
   "cell_type": "code",
   "execution_count": 1,
   "id": "3f2d2c00-3657-441a-8b3f-8eb561910ccf",
   "metadata": {},
   "outputs": [
    {
     "name": "stdout",
     "output_type": "stream",
     "text": [
      "true\n"
     ]
    }
   ],
   "source": [
    "if True:\n",
    "    print('true')\n",
    "else:\n",
    "    print('false')"
   ]
  },
  {
   "cell_type": "code",
   "execution_count": 6,
   "id": "8b96939a-b36f-4e40-9a42-3950915a3896",
   "metadata": {},
   "outputs": [
    {
     "name": "stdout",
     "output_type": "stream",
     "text": [
      "true\n"
     ]
    }
   ],
   "source": [
    "# if else comprehensive\n",
    "print('true') if True else print('false')"
   ]
  },
  {
   "cell_type": "code",
   "execution_count": 7,
   "id": "d06aba8e-2b22-4d6d-b115-9fe45746b811",
   "metadata": {},
   "outputs": [
    {
     "name": "stdout",
     "output_type": "stream",
     "text": [
      "Audi\n",
      "BMW\n",
      "City\n",
      "Mehran\n"
     ]
    }
   ],
   "source": [
    "cars : list[str] = ['audi', 'bmw', 'city', 'mehran']\n",
    "for car in cars:\n",
    "    if(car == 'bmw'):\n",
    "        print(car.upper())\n",
    "    else:\n",
    "        print(car.title())"
   ]
  },
  {
   "cell_type": "code",
   "execution_count": 3,
   "id": "4fbdecb2-d86f-4e4f-b025-659946a175d2",
   "metadata": {},
   "outputs": [
    {
     "data": {
      "text/plain": [
       "['Audi', 'BMW', 'City', 'Mehran']"
      ]
     },
     "execution_count": 3,
     "metadata": {},
     "output_type": "execute_result"
    }
   ],
   "source": [
    "cars : list[str] = ['audi', 'bmw', 'city', 'mehran']\n",
    "[car.upper() if(car == 'bmw') else car.title() for car in cars]"
   ]
  },
  {
   "cell_type": "code",
   "execution_count": 3,
   "id": "477484a6-1411-4075-82ba-e574eb660c85",
   "metadata": {},
   "outputs": [
    {
     "name": "stdout",
     "output_type": "stream",
     "text": [
      "logic three\n",
      "default\n"
     ]
    }
   ],
   "source": [
    "# if - elif - else\n",
    "# only one condition executes\n",
    "# outside condition is the default one and will always run\n",
    "if False:\n",
    "    print('logic one')\n",
    "elif False:\n",
    "    print('logic two')\n",
    "elif True:\n",
    "    print('logic three')\n",
    "elif True:\n",
    "    print('logic four')\n",
    "else:\n",
    "    print('else')\n",
    "\n",
    "print('default')"
   ]
  },
  {
   "cell_type": "code",
   "execution_count": 15,
   "id": "9f1187b6-a689-4550-a857-bd715a17fcc5",
   "metadata": {},
   "outputs": [
    {
     "name": "stdout",
     "output_type": "stream",
     "text": [
      "Enter Your Percentage 90\n"
     ]
    },
    {
     "name": "stdout",
     "output_type": "stream",
     "text": [
      "<class 'int'>\n",
      "A+\n"
     ]
    }
   ],
   "source": [
    "# Grading System\n",
    "from typing import Union, Optional\n",
    "per : Union[int, float] = int(input('Enter Your Percentage'))\n",
    "# union alternate is pipe operator\n",
    "# per : int | float\n",
    "grade : Union[str, None] = None\n",
    "# grade : Optional[str] = None\n",
    "\n",
    "print(type(per))\n",
    "exit\n",
    "\n",
    "# if type(per) != int:\n",
    "#    print('invalid input')\n",
    "\n",
    "if (per > 80):\n",
    "    print('A+')\n",
    "elif (per > 70 and per < 80):\n",
    "    print('A')\n",
    "elif (per > 60 and  per < 70):\n",
    "    print('B')\n",
    "else:\n",
    "    print('fail')\n",
    "\n",
    "\n"
   ]
  },
  {
   "cell_type": "code",
   "execution_count": 16,
   "id": "7c22ef3c-3d11-4148-9ae2-001eda8d8b9d",
   "metadata": {},
   "outputs": [
    {
     "name": "stdout",
     "output_type": "stream",
     "text": [
      "Enter Your Percentage:  ff\n"
     ]
    },
    {
     "name": "stdout",
     "output_type": "stream",
     "text": [
      "Invalid input: Please enter a number.\n",
      "<class 'int'>\n",
      "A+\n"
     ]
    }
   ],
   "source": [
    "# Grading System\n",
    "from typing import Union\n",
    "\n",
    "# Prompt user input and check if it can be converted to int or float\n",
    "user_input = input('Enter Your Percentage: ')\n",
    "\n",
    "try:\n",
    "    # Attempt to convert the input to a number (int or float)\n",
    "    per: Union[int, float] = float(user_input) if '.' in user_input else int(user_input)\n",
    "except ValueError:\n",
    "    # If conversion fails, it's an invalid input\n",
    "    print('Invalid input: Please enter a number.')\n",
    "    exit()  # Exit the program\n",
    "\n",
    "# Grade initialization\n",
    "grade: Union[str, None] = None\n",
    "\n",
    "# Check the type of 'per'\n",
    "print(type(per))\n",
    "\n",
    "# Grading logic\n",
    "if per > 80:\n",
    "    print('A+')\n",
    "elif 70 < per <= 80:\n",
    "    print('A')\n",
    "elif 60 < per <= 70:\n",
    "    print('B')\n",
    "else:\n",
    "    print('fail')\n"
   ]
  },
  {
   "cell_type": "code",
   "execution_count": 1,
   "id": "128146de-d270-4271-8b85-c3d7f000e680",
   "metadata": {},
   "outputs": [
    {
     "name": "stdout",
     "output_type": "stream",
     "text": [
      "['wasim', 1, 4]\n"
     ]
    }
   ],
   "source": [
    "# for multiple type of list elements\n",
    "data : list[ str | int] = ['wasim', 1, 4]\n",
    "print(data)"
   ]
  }
 ],
 "metadata": {
  "kernelspec": {
   "display_name": "Python 3 (ipykernel)",
   "language": "python",
   "name": "python3"
  },
  "language_info": {
   "codemirror_mode": {
    "name": "ipython",
    "version": 3
   },
   "file_extension": ".py",
   "mimetype": "text/x-python",
   "name": "python",
   "nbconvert_exporter": "python",
   "pygments_lexer": "ipython3",
   "version": "3.12.0"
  }
 },
 "nbformat": 4,
 "nbformat_minor": 5
}
