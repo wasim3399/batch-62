{
 "cells": [
  {
   "cell_type": "markdown",
   "id": "b608fb2c-92dc-4f13-bb30-b9d7d0350ba1",
   "metadata": {},
   "source": [
    "# List Comprehensive, Lists and Loops\n",
    "* Apply operation on an iterative element"
   ]
  },
  {
   "cell_type": "code",
   "execution_count": 2,
   "id": "2606d575-29e8-42c1-a653-3d88b78bafed",
   "metadata": {},
   "outputs": [
    {
     "name": "stdout",
     "output_type": "stream",
     "text": [
      "['wasim', 'usman', 'ali']\n"
     ]
    }
   ],
   "source": [
    "names : list[str] = ['wasim', 'usman', 'ali']\n",
    "print(names)"
   ]
  },
  {
   "cell_type": "markdown",
   "id": "9e33deeb-598e-4653-ba76-6244cc8fcaee",
   "metadata": {},
   "source": [
    "# Enumuration return index with value and returns as tuple"
   ]
  },
  {
   "cell_type": "code",
   "execution_count": 40,
   "id": "b94595e4-eba9-4ad5-8609-5e4174700387",
   "metadata": {},
   "outputs": [
    {
     "name": "stdout",
     "output_type": "stream",
     "text": [
      "<enumerate object at 0x111c8fe20>\n"
     ]
    }
   ],
   "source": [
    "print(enumerate(names))"
   ]
  },
  {
   "cell_type": "code",
   "execution_count": 39,
   "id": "4f1da52e-1f16-43ad-812b-6a75387ff7da",
   "metadata": {},
   "outputs": [
    {
     "data": {
      "text/plain": [
       "[(0, 'wasim'), (1, 'usman'), (2, 'ali')]"
      ]
     },
     "execution_count": 39,
     "metadata": {},
     "output_type": "execute_result"
    }
   ],
   "source": [
    "list(enumerate(names))"
   ]
  },
  {
   "cell_type": "code",
   "execution_count": 41,
   "id": "17667b48-410c-4f8f-bd00-2a5ecb597b5c",
   "metadata": {},
   "outputs": [
    {
     "name": "stdout",
     "output_type": "stream",
     "text": [
      "0 wasim\n",
      "1 usman\n",
      "2 ali\n"
     ]
    }
   ],
   "source": [
    "for index, name in enumerate(names):\n",
    "    print(index, name)"
   ]
  },
  {
   "cell_type": "markdown",
   "id": "a70753d5-b07c-4500-8468-71fc0b6d78c0",
   "metadata": {},
   "source": [
    "# Traditional Loop"
   ]
  },
  {
   "cell_type": "code",
   "execution_count": 11,
   "id": "7a42ad7f-7f55-4136-ba84-f326f0934f1c",
   "metadata": {},
   "outputs": [
    {
     "name": "stdout",
     "output_type": "stream",
     "text": [
      "wasim\n",
      "usman\n",
      "ali\n"
     ]
    }
   ],
   "source": [
    "i:int = 0\n",
    "while i<len(names):\n",
    "    print(names[i])\n",
    "    i += 1"
   ]
  },
  {
   "cell_type": "markdown",
   "id": "213da753-f4e7-47c2-8725-2914effb604a",
   "metadata": {},
   "source": [
    "# Modern Way"
   ]
  },
  {
   "cell_type": "code",
   "execution_count": 31,
   "id": "6f1cba91-e02b-4564-8f38-ad7add22efca",
   "metadata": {},
   "outputs": [
    {
     "name": "stdout",
     "output_type": "stream",
     "text": [
      "wasim\n",
      "usman\n",
      "ali\n",
      "Execute else after complete loop execution\n",
      "ali\n"
     ]
    }
   ],
   "source": [
    "for name in names:\n",
    "    print(name)\n",
    "else:\n",
    "    print('Execute else after complete loop execution')\n",
    "\n",
    "print(name) # last of loop becomes and is accessible outside loop."
   ]
  },
  {
   "cell_type": "code",
   "execution_count": 29,
   "id": "7916b878-a117-4172-ba05-eae6cfdabb6e",
   "metadata": {},
   "outputs": [
    {
     "name": "stdout",
     "output_type": "stream",
     "text": [
      "wasim\n"
     ]
    }
   ],
   "source": [
    "for name in names:\n",
    "    print(name)\n",
    "    break\n",
    "else:\n",
    "    print('Not execute else if break')"
   ]
  },
  {
   "cell_type": "code",
   "execution_count": 30,
   "id": "896fce14-9dbe-4b3f-a80e-be40d9717023",
   "metadata": {},
   "outputs": [
    {
     "name": "stdout",
     "output_type": "stream",
     "text": [
      "wasim\n",
      "Default, it will always execute even if loop break or complete\n"
     ]
    }
   ],
   "source": [
    "for name in names:\n",
    "    print(name)\n",
    "    break\n",
    "print('Default, it will always execute even if loop break or complete')"
   ]
  },
  {
   "cell_type": "code",
   "execution_count": 13,
   "id": "8adf449b-357a-4b3e-8f48-e430538262ba",
   "metadata": {},
   "outputs": [
    {
     "name": "stdout",
     "output_type": "stream",
     "text": [
      "wasim\n",
      "usman\n"
     ]
    }
   ],
   "source": [
    "for name in names[-3:-1]:\n",
    "    print(name)"
   ]
  },
  {
   "cell_type": "code",
   "execution_count": 14,
   "id": "f4309216-3a7f-44f8-bfc3-2c707768bc0c",
   "metadata": {},
   "outputs": [
    {
     "name": "stdout",
     "output_type": "stream",
     "text": [
      "ali\n",
      "usman\n",
      "wasim\n"
     ]
    }
   ],
   "source": [
    "for name in names[::-1]:\n",
    "    print(name)"
   ]
  },
  {
   "cell_type": "code",
   "execution_count": 15,
   "id": "efd25554-7e98-4af9-ad5c-7891f63feadc",
   "metadata": {},
   "outputs": [
    {
     "name": "stdout",
     "output_type": "stream",
     "text": [
      "('wasim', '123')\n",
      "('usman', '432')\n",
      "('qasim', '444')\n"
     ]
    }
   ],
   "source": [
    "users : list[tuple[str, str]] = [('wasim', '123'), ('usman', '432'), ('qasim', '444')]\n",
    "for user in users:\n",
    "    print(user)"
   ]
  },
  {
   "cell_type": "code",
   "execution_count": 18,
   "id": "4e02a3b5-2856-40e5-a964-b6d053392095",
   "metadata": {},
   "outputs": [
    {
     "name": "stdout",
     "output_type": "stream",
     "text": [
      "wasim 123\n",
      "usman 432\n",
      "qasim 444\n"
     ]
    }
   ],
   "source": [
    "for user in users:\n",
    "    name, password = user\n",
    "    print(name, password)\n",
    "    "
   ]
  },
  {
   "cell_type": "code",
   "execution_count": 21,
   "id": "6e92256e-044c-43f0-b7a8-56a2b284e797",
   "metadata": {},
   "outputs": [
    {
     "name": "stdout",
     "output_type": "stream",
     "text": [
      "Enter Name wasim\n",
      "Enter Pass 123\n"
     ]
    },
    {
     "name": "stdout",
     "output_type": "stream",
     "text": [
      "valid user\n"
     ]
    }
   ],
   "source": [
    "user_name = input('Enter Name')\n",
    "user_pass = input('Enter Pass')\n",
    "for user in users:\n",
    "    name, password = user\n",
    "    if (user_name == name and user_pass == password):\n",
    "        print('valid user')\n",
    "        break\n",
    "else:\n",
    "    print('invalid user')"
   ]
  },
  {
   "cell_type": "markdown",
   "id": "6529c02e-3620-4dbe-8484-c40b90a5c3f8",
   "metadata": {},
   "source": [
    "# Numbers with loop\n",
    "`range(start, end, step)`"
   ]
  },
  {
   "cell_type": "code",
   "execution_count": 32,
   "id": "fae2cf2e-73e4-419b-a6bb-90dcd599e9b5",
   "metadata": {},
   "outputs": [
    {
     "data": {
      "text/plain": [
       "range(0, 10)"
      ]
     },
     "execution_count": 32,
     "metadata": {},
     "output_type": "execute_result"
    }
   ],
   "source": [
    "range(10) # start with 0 and ends at n-1"
   ]
  },
  {
   "cell_type": "code",
   "execution_count": 33,
   "id": "88f6d42d-3a7c-434b-b42c-2bde5a7474f9",
   "metadata": {},
   "outputs": [
    {
     "data": {
      "text/plain": [
       "[0, 1, 2, 3, 4, 5, 6, 7, 8, 9]"
      ]
     },
     "execution_count": 33,
     "metadata": {},
     "output_type": "execute_result"
    }
   ],
   "source": [
    "list(range(10))"
   ]
  },
  {
   "cell_type": "code",
   "execution_count": 65,
   "id": "43b48dd4-86de-4555-8512-cc2ea8d4601b",
   "metadata": {},
   "outputs": [
    {
     "name": "stdout",
     "output_type": "stream",
     "text": [
      "1 * 2 = 2\n",
      "2 * 2 = 4\n",
      "3 * 2 = 6\n",
      "4 * 2 = 8\n",
      "5 * 2 = 10\n",
      "6 * 2 = 12\n",
      "7 * 2 = 14\n",
      "8 * 2 = 16\n",
      "9 * 2 = 18\n",
      "10 * 2 = 20\n"
     ]
    }
   ],
   "source": [
    "for i in range(1,11):\n",
    "    print(f\"{i} * 2 = {i*2}\")"
   ]
  },
  {
   "cell_type": "markdown",
   "id": "5b10fdb6-936c-41fe-8b7e-96eb10bfd520",
   "metadata": {},
   "source": [
    "# Comprehensive Style\n",
    "* move loop body to the start of the loop"
   ]
  },
  {
   "cell_type": "code",
   "execution_count": 69,
   "id": "02ace861-38cb-434b-9c9b-792f9645452c",
   "metadata": {},
   "outputs": [
    {
     "data": {
      "text/plain": [
       "[1, 4, 9, 16, 25, 36, 49, 64, 81, 100]"
      ]
     },
     "execution_count": 69,
     "metadata": {},
     "output_type": "execute_result"
    }
   ],
   "source": [
    "[i**2 for i in range(1,11)]\n",
    "# no need to add print in jupyter but VSCode"
   ]
  },
  {
   "cell_type": "markdown",
   "id": "129d51aa-3040-4f51-b94b-ab12ff12a5a5",
   "metadata": {},
   "source": [
    "# Shallow copy vs Deep copy"
   ]
  },
  {
   "cell_type": "code",
   "execution_count": 72,
   "id": "62d74fd8-7267-47cf-9b4a-38ca35ee7bca",
   "metadata": {},
   "outputs": [
    {
     "name": "stdout",
     "output_type": "stream",
     "text": [
      "[1, 2, 3]\n",
      "[1, 4, 3]\n"
     ]
    }
   ],
   "source": [
    "a : list[int] = [1,2,3]\n",
    "b = a[:] # Slicing always perform deep copy\n",
    "b[1] = 4\n",
    "print(a)\n",
    "print(b)"
   ]
  },
  {
   "cell_type": "markdown",
   "id": "5fd1eff2-2730-4ded-9778-8d752c06d0a4",
   "metadata": {},
   "source": [
    "# Tuple (immuatable)"
   ]
  },
  {
   "cell_type": "code",
   "execution_count": 73,
   "id": "81bf8dda-17c2-4f9c-bb24-dd123d0beffc",
   "metadata": {},
   "outputs": [
    {
     "name": "stdout",
     "output_type": "stream",
     "text": [
      "(1, 2, 4)\n"
     ]
    }
   ],
   "source": [
    "a : tuple[int] = (1, 2, 4)\n",
    "print(a)"
   ]
  },
  {
   "cell_type": "code",
   "execution_count": 75,
   "id": "b6c46a20-6107-483d-97fa-95470cf11a15",
   "metadata": {},
   "outputs": [
    {
     "name": "stdout",
     "output_type": "stream",
     "text": [
      "2\n"
     ]
    }
   ],
   "source": [
    "print(a[1])"
   ]
  },
  {
   "cell_type": "code",
   "execution_count": 76,
   "id": "f3a6f4a1-5502-4afe-9c5b-a1625078984d",
   "metadata": {},
   "outputs": [
    {
     "name": "stdout",
     "output_type": "stream",
     "text": [
      "(3, 5, 4)\n"
     ]
    }
   ],
   "source": [
    "# cannot be assigned a new value. Instead we have to re-initialize if we want to update\n",
    "a : tuple[int] = (3,5, 4)\n",
    "print(a)"
   ]
  },
  {
   "cell_type": "code",
   "execution_count": 77,
   "id": "90de18f1-f5f1-4559-8e0b-d8f2dbf97958",
   "metadata": {},
   "outputs": [
    {
     "name": "stdout",
     "output_type": "stream",
     "text": [
      "(1, [2, 3, 5], 'pakistan')\n"
     ]
    }
   ],
   "source": [
    "# 0 index can never be updated in tuple\n",
    "from typing import Any\n",
    "data : tuple[Any] = (1, [2,3,5], 'pakistan')\n",
    "print(data)"
   ]
  },
  {
   "cell_type": "code",
   "execution_count": 78,
   "id": "993ee57b-84c4-4828-9bb8-1dfddb75e6a9",
   "metadata": {},
   "outputs": [
    {
     "name": "stdout",
     "output_type": "stream",
     "text": [
      "(1, [2, 3, 5, 4], 'pakistan')\n"
     ]
    }
   ],
   "source": [
    "data[1].append(4)\n",
    "print(data)"
   ]
  },
  {
   "cell_type": "code",
   "execution_count": 7,
   "id": "86a36515-edbb-4807-8884-c3f5acc08b8d",
   "metadata": {},
   "outputs": [
    {
     "data": {
      "text/plain": [
       "[1, 2, 3, 1, 2, 33]"
      ]
     },
     "execution_count": 7,
     "metadata": {},
     "output_type": "execute_result"
    }
   ],
   "source": [
    "data : list[int] = [1,2,3]\n",
    "data.append(1)\n",
    "data\n",
    "\n",
    "data\n",
    "data.extend([2, 33])\n",
    "data"
   ]
  }
 ],
 "metadata": {
  "kernelspec": {
   "display_name": "Python 3 (ipykernel)",
   "language": "python",
   "name": "python3"
  },
  "language_info": {
   "codemirror_mode": {
    "name": "ipython",
    "version": 3
   },
   "file_extension": ".py",
   "mimetype": "text/x-python",
   "name": "python",
   "nbconvert_exporter": "python",
   "pygments_lexer": "ipython3",
   "version": "3.12.0"
  }
 },
 "nbformat": 4,
 "nbformat_minor": 5
}
