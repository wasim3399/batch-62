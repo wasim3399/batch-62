{
 "cells": [
  {
   "cell_type": "markdown",
   "id": "e44cf864-b270-4b39-8153-15571718d3cb",
   "metadata": {},
   "source": [
    "# Dictionary, Set, Tuple, Dict Comperhensive\n",
    "* int, str, set are hashable and can only be used as key in dictionary"
   ]
  },
  {
   "cell_type": "code",
   "execution_count": 25,
   "id": "f3efffc8-1aa4-4ddc-bb28-6536397dbe5b",
   "metadata": {},
   "outputs": [
    {
     "name": "stdout",
     "output_type": "stream",
     "text": [
      "{'name': 'wasim', 'email': 'wasim.iqtm@gmail.com', 'phone': 12345}\n"
     ]
    }
   ],
   "source": [
    "from typing import Any, Union, Optional\n",
    "Key = Union[int, str]\n",
    "Value = Union[int, str, dict, list, tuple, set]\n",
    "data : dict[Key, Value] = {'name': 'wasim',\n",
    "                           'email': 'wasim.iqtm@gmail.com',\n",
    "                           'phone': 12345\n",
    "                          }\n",
    "print(data)"
   ]
  },
  {
   "cell_type": "code",
   "execution_count": 20,
   "id": "1e4aad4b-ff6b-4042-99e4-3fc8cddf869f",
   "metadata": {},
   "outputs": [
    {
     "name": "stdout",
     "output_type": "stream",
     "text": [
      "wasim\n"
     ]
    }
   ],
   "source": [
    "print(data['name'])"
   ]
  },
  {
   "cell_type": "code",
   "execution_count": 26,
   "id": "cf4428e7-7c42-49c2-99c8-62bdddf8363a",
   "metadata": {},
   "outputs": [
    {
     "data": {
      "text/plain": [
       "['clear',\n",
       " 'copy',\n",
       " 'fromkeys',\n",
       " 'get',\n",
       " 'items',\n",
       " 'keys',\n",
       " 'pop',\n",
       " 'popitem',\n",
       " 'setdefault',\n",
       " 'update',\n",
       " 'values']"
      ]
     },
     "metadata": {},
     "output_type": "display_data"
    }
   ],
   "source": [
    "display([i for i in dir(data) if ('__' not in i)])"
   ]
  },
  {
   "cell_type": "code",
   "execution_count": 27,
   "id": "f0627ec5-55ec-43e0-9859-286dc1b876cb",
   "metadata": {},
   "outputs": [
    {
     "name": "stdout",
     "output_type": "stream",
     "text": [
      "NA\n"
     ]
    }
   ],
   "source": [
    "print(data.get('pakistan', 'NA'))"
   ]
  },
  {
   "cell_type": "code",
   "execution_count": 28,
   "id": "9fc77eb8-b320-4b29-a599-a49de8e0aa26",
   "metadata": {},
   "outputs": [
    {
     "name": "stdout",
     "output_type": "stream",
     "text": [
      "{1, 2, 3, 4, 5, 24}\n"
     ]
    }
   ],
   "source": [
    "# set return unique\n",
    "# we cannot perform iteration on set datatypes\n",
    "data1 : set = {1,2,2,3,4,5,24,1}\n",
    "print(data1)"
   ]
  },
  {
   "cell_type": "code",
   "execution_count": 29,
   "id": "61be635f-1638-445f-a078-446784b9a928",
   "metadata": {},
   "outputs": [
    {
     "name": "stdout",
     "output_type": "stream",
     "text": [
      "{1, 2, 4, 33}\n",
      "1\n",
      "2\n",
      "4\n",
      "33\n",
      "[1, 2, 4, 33]\n"
     ]
    }
   ],
   "source": [
    "# type casting\n",
    "abc : set = {1,2,4,33}\n",
    "print(abc)\n",
    "for i in abc:\n",
    "    print(i)\n",
    "xyz : list[int] = list(abc)\n",
    "print(xyz)"
   ]
  },
  {
   "cell_type": "code",
   "execution_count": 5,
   "id": "dfa67af3",
   "metadata": {},
   "outputs": [
    {
     "name": "stdout",
     "output_type": "stream",
     "text": [
      "{1, 3, 4, 53, 55, 28}\n"
     ]
    },
    {
     "data": {
      "text/plain": [
       "['add',\n",
       " 'clear',\n",
       " 'copy',\n",
       " 'difference',\n",
       " 'difference_update',\n",
       " 'discard',\n",
       " 'intersection',\n",
       " 'intersection_update',\n",
       " 'isdisjoint',\n",
       " 'issubset',\n",
       " 'issuperset',\n",
       " 'pop',\n",
       " 'remove',\n",
       " 'symmetric_difference',\n",
       " 'symmetric_difference_update',\n",
       " 'union',\n",
       " 'update']"
      ]
     },
     "metadata": {},
     "output_type": "display_data"
    }
   ],
   "source": [
    "data_set : set[int] = {1, 3, 3, 4, 1, 55, 53, 28}\n",
    "print(data_set)\n",
    "\n",
    "display([i for i in dir(data_set) if('__' not in i)])"
   ]
  }
 ],
 "metadata": {
  "kernelspec": {
   "display_name": "Python 3 (ipykernel)",
   "language": "python",
   "name": "python3"
  },
  "language_info": {
   "codemirror_mode": {
    "name": "ipython",
    "version": 3
   },
   "file_extension": ".py",
   "mimetype": "text/x-python",
   "name": "python",
   "nbconvert_exporter": "python",
   "pygments_lexer": "ipython3",
   "version": "3.12.0"
  }
 },
 "nbformat": 4,
 "nbformat_minor": 5
}
