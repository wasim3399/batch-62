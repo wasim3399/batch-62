{
 "cells": [
  {
   "attachments": {},
   "cell_type": "markdown",
   "metadata": {},
   "source": [
    "# String data type in python"
   ]
  },
  {
   "cell_type": "code",
   "execution_count": 5,
   "metadata": {},
   "outputs": [
    {
     "name": "stdout",
     "output_type": "stream",
     "text": [
      "what is your father's name\n"
     ]
    }
   ],
   "source": [
    "message : str = 'what is your father\\'s name'\n",
    "print(message)"
   ]
  },
  {
   "cell_type": "markdown",
   "metadata": {},
   "source": [
    "* backticks not work in python string\n",
    "* jinja style work with 2 curly brackets"
   ]
  },
  {
   "cell_type": "code",
   "execution_count": 16,
   "metadata": {},
   "outputs": [
    {
     "name": "stdout",
     "output_type": "stream",
     "text": [
      "my name is wasim and my age is 55\n",
      "my name is wasim and my age is 55\n",
      "my name is wasim and my age is 55\n",
      "my name is wasim and my age is 55\n"
     ]
    }
   ],
   "source": [
    "age : int = 55\n",
    "\n",
    "print(\"my name is wasim and my age is \" + str(age))\n",
    "print(f\"my name is wasim and my age is {age}\")\n",
    "print(\"my name is wasim and my age is {}\".format(age))\n",
    "print(\"my name is wasim and my age is %d\" %(age)) \n",
    "\n"
   ]
  },
  {
   "attachments": {},
   "cell_type": "markdown",
   "metadata": {},
   "source": [
    "* execution function"
   ]
  },
  {
   "cell_type": "code",
   "execution_count": 19,
   "metadata": {},
   "outputs": [
    {
     "name": "stdout",
     "output_type": "stream",
     "text": [
      "my name is wasim\n",
      "7\n"
     ]
    }
   ],
   "source": [
    "message : str = \"\"\"\n",
    "print(\"my name is wasim\")\n",
    "a : int = 3\n",
    "b : int = 4\n",
    "print(a+b)\n",
    "\"\"\"\n",
    "exec(message)"
   ]
  },
  {
   "attachments": {},
   "cell_type": "markdown",
   "metadata": {},
   "source": [
    "* remove extra spaces with regext"
   ]
  },
  {
   "cell_type": "code",
   "execution_count": 34,
   "metadata": {},
   "outputs": [
    {
     "name": "stdout",
     "output_type": "stream",
     "text": [
      " Wasim Rashid \n"
     ]
    }
   ],
   "source": [
    "import re\n",
    "\n",
    "name = '    Wasim     Rashid      '\n",
    "\n",
    "new_name : str = re.sub(' {2,}', ' ', name)\n",
    "print(new_name)"
   ]
  },
  {
   "attachments": {},
   "cell_type": "markdown",
   "metadata": {},
   "source": [
    "# Revision"
   ]
  },
  {
   "cell_type": "code",
   "execution_count": 2,
   "metadata": {},
   "outputs": [
    {
     "name": "stdout",
     "output_type": "stream",
     "text": [
      "What is your father's name?\n"
     ]
    }
   ],
   "source": [
    "msg : str = \"What is your father's name?\"\n",
    "print(msg)"
   ]
  },
  {
   "cell_type": "code",
   "execution_count": 7,
   "metadata": {},
   "outputs": [
    {
     "name": "stdout",
     "output_type": "stream",
     "text": [
      "Obtained marks are 44\n",
      "Obtained marks are 44\n",
      "Obtained marks are 44\n",
      "Obtained marks are 44\n"
     ]
    }
   ],
   "source": [
    "marks : int = 44\n",
    "print(\"Obtained marks are \"+ str(marks)+ \"\")\n",
    "print(f\"Obtained marks are {marks}\")\n",
    "print(\"Obtained marks are {}\".format(marks))\n",
    "print(\"Obtained marks are %d\" %(marks))"
   ]
  },
  {
   "cell_type": "code",
   "execution_count": 8,
   "metadata": {},
   "outputs": [
    {
     "name": "stdout",
     "output_type": "stream",
     "text": [
      "['capitalize', 'casefold', 'center', 'count', 'encode', 'endswith', 'expandtabs', 'find', 'format', 'format_map', 'index', 'isalnum', 'isalpha', 'isascii', 'isdecimal', 'isdigit', 'isidentifier', 'islower', 'isnumeric', 'isprintable', 'isspace', 'istitle', 'isupper', 'join', 'ljust', 'lower', 'lstrip', 'maketrans', 'partition', 'removeprefix', 'removesuffix', 'replace', 'rfind', 'rindex', 'rjust', 'rpartition', 'rsplit', 'rstrip', 'split', 'splitlines', 'startswith', 'strip', 'swapcase', 'title', 'translate', 'upper', 'zfill']\n"
     ]
    }
   ],
   "source": [
    "print([i for i in dir(str) if \"__\" not in i])"
   ]
  },
  {
   "cell_type": "code",
   "execution_count": 15,
   "metadata": {},
   "outputs": [
    {
     "name": "stdout",
     "output_type": "stream",
     "text": [
      "Value of a is 4 and value of b is 2\n",
      "Value of a is 2 and value of b is 4\n",
      "Value of a is 2 and value of b is 4\n"
     ]
    }
   ],
   "source": [
    "a : int = 2\n",
    "b : int = 4\n",
    "print(\"Value of a is {1} and value of b is {0}\".format(a,b)) # index number matters\n",
    "print(\"Value of a is {value2} and value of b is {value1}\".format(value2 = a,value1 = b)) # index number matters\n",
    "print(\"Value of a is %d and value of b is %d\" %(a,b))"
   ]
  },
  {
   "cell_type": "code",
   "execution_count": 22,
   "metadata": {},
   "outputs": [
    {
     "name": "stdout",
     "output_type": "stream",
     "text": [
      "      wasim       rashid      \n",
      " wasim rashid \n"
     ]
    }
   ],
   "source": [
    "import re\n",
    "name : str = '      wasim       rashid      '\n",
    "print(name)\n",
    "new_name = re.sub( ' {2,100}', ' ', name)\n",
    "print(new_name)"
   ]
  }
 ],
 "metadata": {
  "kernelspec": {
   "display_name": "python12",
   "language": "python",
   "name": "python3"
  },
  "language_info": {
   "codemirror_mode": {
    "name": "ipython",
    "version": 3
   },
   "file_extension": ".py",
   "mimetype": "text/x-python",
   "name": "python",
   "nbconvert_exporter": "python",
   "pygments_lexer": "ipython3",
   "version": "3.12.0"
  },
  "orig_nbformat": 4
 },
 "nbformat": 4,
 "nbformat_minor": 2
}
