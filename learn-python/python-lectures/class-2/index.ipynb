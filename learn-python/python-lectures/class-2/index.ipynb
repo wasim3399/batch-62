{
 "cells": [
  {
   "attachments": {},
   "cell_type": "markdown",
   "metadata": {},
   "source": [
    "# String data type in python"
   ]
  },
  {
   "cell_type": "code",
   "execution_count": 5,
   "metadata": {},
   "outputs": [
    {
     "name": "stdout",
     "output_type": "stream",
     "text": [
      "what is your father's name\n"
     ]
    }
   ],
   "source": [
    "message : str = 'what is your father\\'s name'\n",
    "print(message)"
   ]
  },
  {
   "cell_type": "markdown",
   "metadata": {},
   "source": [
    "* backticks not work in python string\n",
    "* jinja style work with 2 curly brackets"
   ]
  },
  {
   "cell_type": "code",
   "execution_count": 16,
   "metadata": {},
   "outputs": [
    {
     "name": "stdout",
     "output_type": "stream",
     "text": [
      "my name is wasim and my age is 55\n",
      "my name is wasim and my age is 55\n",
      "my name is wasim and my age is 55\n",
      "my name is wasim and my age is 55\n"
     ]
    }
   ],
   "source": [
    "age : int = 55\n",
    "\n",
    "print(\"my name is wasim and my age is \" + str(age))\n",
    "print(f\"my name is wasim and my age is {age}\")\n",
    "print(\"my name is wasim and my age is {}\".format(age))\n",
    "print(\"my name is wasim and my age is %d\" %(age)) \n",
    "\n"
   ]
  },
  {
   "attachments": {},
   "cell_type": "markdown",
   "metadata": {},
   "source": [
    "* execution function"
   ]
  },
  {
   "cell_type": "code",
   "execution_count": 19,
   "metadata": {},
   "outputs": [
    {
     "name": "stdout",
     "output_type": "stream",
     "text": [
      "my name is wasim\n",
      "7\n"
     ]
    }
   ],
   "source": [
    "message : str = \"\"\"\n",
    "print(\"my name is wasim\")\n",
    "a : int = 3\n",
    "b : int = 4\n",
    "print(a+b)\n",
    "\"\"\"\n",
    "exec(message)"
   ]
  },
  {
   "attachments": {},
   "cell_type": "markdown",
   "metadata": {},
   "source": [
    "* remove extra spaces with regext"
   ]
  },
  {
   "cell_type": "code",
   "execution_count": 34,
   "metadata": {},
   "outputs": [
    {
     "name": "stdout",
     "output_type": "stream",
     "text": [
      " Wasim Rashid \n"
     ]
    }
   ],
   "source": [
    "import re\n",
    "\n",
    "name = '    Wasim     Rashid      '\n",
    "\n",
    "new_name : str = re.sub(' {2,}', ' ', name)\n",
    "print(new_name)"
   ]
  }
 ],
 "metadata": {
  "kernelspec": {
   "display_name": "python12",
   "language": "python",
   "name": "python3"
  },
  "language_info": {
   "codemirror_mode": {
    "name": "ipython",
    "version": 3
   },
   "file_extension": ".py",
   "mimetype": "text/x-python",
   "name": "python",
   "nbconvert_exporter": "python",
   "pygments_lexer": "ipython3",
   "version": "3.12.0"
  },
  "orig_nbformat": 4
 },
 "nbformat": 4,
 "nbformat_minor": 2
}
