{
 "cells": [
  {
   "attachments": {},
   "cell_type": "markdown",
   "metadata": {},
   "source": [
    "# Dictionary, JSON, JSONIFY, and Data Frames"
   ]
  },
  {
   "cell_type": "code",
   "execution_count": 2,
   "metadata": {},
   "outputs": [
    {
     "data": {
      "text/plain": [
       "{'name': 'Wasim', 'email': 'wasim.iqtm@gmail.com', (1, 2): True}"
      ]
     },
     "metadata": {},
     "output_type": "display_data"
    }
   ],
   "source": [
    "# Tuple is hashable and can be used as key\n",
    "from typing import Any\n",
    "\n",
    "Key = int | str | tuple # these are hashable and can be used as key\n",
    "Value = Any\n",
    "\n",
    "data : dict[Key, Value] = {'name' : 'Wasim',\n",
    "                           'email' : 'wasim.iqtm@gmail.com',\n",
    "                            (1,2) : True\n",
    "                            }\n",
    "display(data)"
   ]
  },
  {
   "cell_type": "code",
   "execution_count": 3,
   "metadata": {},
   "outputs": [
    {
     "name": "stdout",
     "output_type": "stream",
     "text": [
      "{'name': 'new name'}\n",
      "{'name': 'updated name'}\n"
     ]
    }
   ],
   "source": [
    "test_data : dict[Key, Value] = {}\n",
    "test_data['name'] = 'new name'\n",
    "print(test_data)\n",
    "test_data['name'] = 'updated name'\n",
    "print(test_data)"
   ]
  },
  {
   "cell_type": "code",
   "execution_count": 4,
   "metadata": {},
   "outputs": [
    {
     "ename": "KeyError",
     "evalue": "'pakistan'",
     "output_type": "error",
     "traceback": [
      "\u001b[0;31m---------------------------------------------------------------------------\u001b[0m",
      "\u001b[0;31mKeyError\u001b[0m                                  Traceback (most recent call last)",
      "Cell \u001b[0;32mIn[4], line 1\u001b[0m\n\u001b[0;32m----> 1\u001b[0m \u001b[39mprint\u001b[39m(test_data[\u001b[39m'\u001b[39;49m\u001b[39mpakistan\u001b[39;49m\u001b[39m'\u001b[39;49m])\n",
      "\u001b[0;31mKeyError\u001b[0m: 'pakistan'"
     ]
    }
   ],
   "source": [
    "print(test_data['pakistan'])"
   ]
  },
  {
   "cell_type": "code",
   "execution_count": 5,
   "metadata": {},
   "outputs": [
    {
     "name": "stdout",
     "output_type": "stream",
     "text": [
      "NA\n"
     ]
    }
   ],
   "source": [
    "print(test_data.get('test', 'NA'))"
   ]
  },
  {
   "cell_type": "code",
   "execution_count": 6,
   "metadata": {},
   "outputs": [
    {
     "name": "stdout",
     "output_type": "stream",
     "text": [
      "dict_keys(['name', 'email', (1, 2)])\n",
      "dict_values(['Wasim', 'wasim.iqtm@gmail.com', True])\n",
      "dict_items([('name', 'Wasim'), ('email', 'wasim.iqtm@gmail.com'), ((1, 2), True)])\n",
      "Wasim\n",
      "wasim.iqtm@gmail.com\n",
      "True\n"
     ]
    }
   ],
   "source": [
    "print(data.keys())\n",
    "print(data.values())\n",
    "print(data.items())\n",
    "\n",
    "for i in data.items():\n",
    "    a, b = i\n",
    "    print(b)"
   ]
  },
  {
   "cell_type": "code",
   "execution_count": 7,
   "metadata": {},
   "outputs": [
    {
     "data": {
      "text/plain": [
       "{'name': 'Wasim', 'email': 'wasim.iqtm@gmail.com', (1, 2): True}"
      ]
     },
     "execution_count": 7,
     "metadata": {},
     "output_type": "execute_result"
    }
   ],
   "source": [
    "# data can be swapped easily\n",
    "{k:v for k, v in data.items()} # this is actually dict comprehensive"
   ]
  },
  {
   "cell_type": "code",
   "execution_count": 8,
   "metadata": {},
   "outputs": [
    {
     "data": {
      "text/plain": [
       "['clear',\n",
       " 'copy',\n",
       " 'fromkeys',\n",
       " 'get',\n",
       " 'items',\n",
       " 'keys',\n",
       " 'pop',\n",
       " 'popitem',\n",
       " 'setdefault',\n",
       " 'update',\n",
       " 'values']"
      ]
     },
     "metadata": {},
     "output_type": "display_data"
    }
   ],
   "source": [
    "# lines can be displayed by pressing l\n",
    "\n",
    "methods : list[str] = [i for i in dir(data) if('__' not in i)]\n",
    "display(methods)"
   ]
  },
  {
   "cell_type": "code",
   "execution_count": 9,
   "metadata": {},
   "outputs": [
    {
     "name": "stdout",
     "output_type": "stream",
     "text": [
      "{'name': ['wasim', 'usman', 'ali'], 'roll_number': [1, 2, 3], 'subject': ['physics', 'chemistry', 'math']}\n"
     ]
    },
    {
     "data": {
      "text/html": [
       "<div>\n",
       "<style scoped>\n",
       "    .dataframe tbody tr th:only-of-type {\n",
       "        vertical-align: middle;\n",
       "    }\n",
       "\n",
       "    .dataframe tbody tr th {\n",
       "        vertical-align: top;\n",
       "    }\n",
       "\n",
       "    .dataframe thead th {\n",
       "        text-align: right;\n",
       "    }\n",
       "</style>\n",
       "<table border=\"1\" class=\"dataframe\">\n",
       "  <thead>\n",
       "    <tr style=\"text-align: right;\">\n",
       "      <th></th>\n",
       "      <th>name</th>\n",
       "      <th>roll_number</th>\n",
       "      <th>subject</th>\n",
       "    </tr>\n",
       "  </thead>\n",
       "  <tbody>\n",
       "    <tr>\n",
       "      <th>0</th>\n",
       "      <td>wasim</td>\n",
       "      <td>1</td>\n",
       "      <td>physics</td>\n",
       "    </tr>\n",
       "    <tr>\n",
       "      <th>1</th>\n",
       "      <td>usman</td>\n",
       "      <td>2</td>\n",
       "      <td>chemistry</td>\n",
       "    </tr>\n",
       "    <tr>\n",
       "      <th>2</th>\n",
       "      <td>ali</td>\n",
       "      <td>3</td>\n",
       "      <td>math</td>\n",
       "    </tr>\n",
       "  </tbody>\n",
       "</table>\n",
       "</div>"
      ],
      "text/plain": [
       "    name  roll_number    subject\n",
       "0  wasim            1    physics\n",
       "1  usman            2  chemistry\n",
       "2    ali            3       math"
      ]
     },
     "execution_count": 9,
     "metadata": {},
     "output_type": "execute_result"
    }
   ],
   "source": [
    "# prodigy python\n",
    "\n",
    "import pandas as pd\n",
    "from typing import Any\n",
    "student_data : dict[str, list[Any]] = {'name' : ['wasim', 'usman', 'ali'],\n",
    "                                       'roll_number' : [1, 2, 3],\n",
    "                                       'subject' : ['physics', 'chemistry', 'math']\n",
    "                                       }\n",
    "print(student_data)\n",
    "\n",
    "df : pd.DataFrame = pd.DataFrame(student_data)\n",
    "df\n",
    "\n"
   ]
  },
  {
   "cell_type": "code",
   "execution_count": 10,
   "metadata": {},
   "outputs": [
    {
     "data": {
      "text/plain": [
       "True"
      ]
     },
     "execution_count": 10,
     "metadata": {},
     "output_type": "execute_result"
    }
   ],
   "source": [
    "msg : str = 'my name is pakistan'\n",
    "'pakistan' in msg"
   ]
  },
  {
   "cell_type": "code",
   "execution_count": 11,
   "metadata": {},
   "outputs": [
    {
     "name": "stdout",
     "output_type": "stream",
     "text": [
      "{'name': ['wasim', 'usman', 'ali'], 'roll_number': [1, 2, 3], 'subject': ['physics', 'chemistry', 'math']}\n",
      "<class 'dict'>\n",
      "{\n",
      "    \"name\": [\n",
      "        \"wasim\",\n",
      "        \"usman\",\n",
      "        \"ali\"\n",
      "    ],\n",
      "    \"roll_number\": [\n",
      "        1,\n",
      "        2,\n",
      "        3\n",
      "    ],\n",
      "    \"subject\": [\n",
      "        \"physics\",\n",
      "        \"chemistry\",\n",
      "        \"math\"\n",
      "    ]\n",
      "}\n",
      "<class 'str'>\n",
      "    name  roll_number    subject\n",
      "0  wasim            1    physics\n",
      "1  usman            2  chemistry\n",
      "2    ali            3       math\n"
     ]
    },
    {
     "name": "stderr",
     "output_type": "stream",
     "text": [
      "/var/folders/vg/2q3x6jnj4_j35634cj9c5m0m0000gn/T/ipykernel_37356/500002243.py:10: FutureWarning: Passing literal json to 'read_json' is deprecated and will be removed in a future version. To read from a literal string, wrap it in a 'StringIO' object.\n",
      "  print(pd.read_json(json_converted))\n"
     ]
    }
   ],
   "source": [
    "import pprint\n",
    "import json\n",
    "print(student_data)\n",
    "print(type(student_data))\n",
    "\n",
    "json_converted = json.dumps(student_data, indent=4) # remember json type is itself string\n",
    "print(json_converted)\n",
    "print(type(json_converted))\n",
    "\n",
    "print(pd.read_json(json_converted))"
   ]
  },
  {
   "cell_type": "code",
   "execution_count": 12,
   "metadata": {},
   "outputs": [
    {
     "name": "stdout",
     "output_type": "stream",
     "text": [
      "    name  roll_number    subject\n",
      "0  wasim            1    physics\n",
      "1  usman            2  chemistry\n",
      "2    ali            3       math\n"
     ]
    },
    {
     "name": "stderr",
     "output_type": "stream",
     "text": [
      "/var/folders/vg/2q3x6jnj4_j35634cj9c5m0m0000gn/T/ipykernel_37356/1938083251.py:1: FutureWarning: Passing literal json to 'read_json' is deprecated and will be removed in a future version. To read from a literal string, wrap it in a 'StringIO' object.\n",
      "  print(pd.read_json(json_converted))\n"
     ]
    }
   ],
   "source": [
    "print(pd.read_json(json_converted))"
   ]
  }
 ],
 "metadata": {
  "kernelspec": {
   "display_name": "python12",
   "language": "python",
   "name": "python3"
  },
  "language_info": {
   "codemirror_mode": {
    "name": "ipython",
    "version": 3
   },
   "file_extension": ".py",
   "mimetype": "text/x-python",
   "name": "python",
   "nbconvert_exporter": "python",
   "pygments_lexer": "ipython3",
   "version": "3.12.0"
  },
  "orig_nbformat": 4
 },
 "nbformat": 4,
 "nbformat_minor": 2
}
