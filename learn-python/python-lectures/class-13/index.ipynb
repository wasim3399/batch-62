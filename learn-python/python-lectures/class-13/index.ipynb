{
 "cells": [
  {
   "attachments": {},
   "cell_type": "markdown",
   "metadata": {},
   "source": [
    "# OOP \n",
    "* class methods (functions)\n",
    "    * first argument must be additional variable (self, this or anything else)\n",
    "    * self or any other first argument must be used in all the functions defined\n",
    "* class attributes (properties)\n",
    "* class variables\n",
    "* constructor"
   ]
  },
  {
   "cell_type": "code",
   "execution_count": 3,
   "metadata": {},
   "outputs": [],
   "source": [
    "class Teacher():\n",
    "    def __init__(self, teacher_id : int, teacher_name : str) -> None:\n",
    "        self.id = teacher_id\n",
    "        self.name = teacher_name\n",
    "        self.organization = 'PIAIC'\n",
    "\n",
    "    def speak(self, words : str) -> None:\n",
    "        print(f'{self.name} is speaking {words}')\n",
    "\n",
    "    def teaching(self, subject : str) -> None:\n",
    "        print(f'{self.name} is teaching {subject}')\n"
   ]
  },
  {
   "cell_type": "code",
   "execution_count": 6,
   "metadata": {},
   "outputs": [
    {
     "name": "stdout",
     "output_type": "stream",
     "text": [
      "<__main__.Teacher object at 0x10e5f5d60>\n"
     ]
    }
   ],
   "source": [
    "# using objects\n",
    "obj1 : Teacher = Teacher(1, 'Sir Zia')\n",
    "obj2 : Teacher = Teacher(1, 'Sir Qasim')"
   ]
  },
  {
   "cell_type": "code",
   "execution_count": 10,
   "metadata": {},
   "outputs": [
    {
     "name": "stdout",
     "output_type": "stream",
     "text": [
      "Teacher Name: Qasim Ali\n"
     ]
    }
   ],
   "source": [
    "class NewTeacher():\n",
    "    def __init__(self, teacher_name : str) -> None:\n",
    "        self.name = teacher_name\n",
    "\n",
    "    def __str__(self) -> str:\n",
    "        return f'Teacher Name: {self.name}'\n",
    "\n",
    "obj1 = NewTeacher('Qasim Ali')\n",
    "print(obj1)"
   ]
  },
  {
   "cell_type": "code",
   "execution_count": 4,
   "metadata": {},
   "outputs": [
    {
     "data": {
      "text/plain": [
       "['__class__',\n",
       " '__delattr__',\n",
       " '__dict__',\n",
       " '__dir__',\n",
       " '__doc__',\n",
       " '__eq__',\n",
       " '__format__',\n",
       " '__ge__',\n",
       " '__getattribute__',\n",
       " '__getstate__',\n",
       " '__gt__',\n",
       " '__hash__',\n",
       " '__init__',\n",
       " '__init_subclass__',\n",
       " '__le__',\n",
       " '__lt__',\n",
       " '__module__',\n",
       " '__ne__',\n",
       " '__new__',\n",
       " '__reduce__',\n",
       " '__reduce_ex__',\n",
       " '__repr__',\n",
       " '__setattr__',\n",
       " '__sizeof__',\n",
       " '__str__',\n",
       " '__subclasshook__',\n",
       " '__weakref__',\n",
       " 'id',\n",
       " 'name',\n",
       " 'organization',\n",
       " 'speak',\n",
       " 'teaching']"
      ]
     },
     "execution_count": 4,
     "metadata": {},
     "output_type": "execute_result"
    }
   ],
   "source": [
    "dir(obj1)"
   ]
  },
  {
   "cell_type": "code",
   "execution_count": 7,
   "metadata": {},
   "outputs": [
    {
     "name": "stdout",
     "output_type": "stream",
     "text": [
      "Sir Zia\n",
      "Sir Qasim\n"
     ]
    }
   ],
   "source": [
    "print(obj1.name)\n",
    "print(obj2.name)"
   ]
  },
  {
   "cell_type": "code",
   "execution_count": 8,
   "metadata": {},
   "outputs": [
    {
     "name": "stdout",
     "output_type": "stream",
     "text": [
      "Sir Qasim is speaking English\n"
     ]
    }
   ],
   "source": [
    "obj2.speak('English')"
   ]
  },
  {
   "attachments": {},
   "cell_type": "markdown",
   "metadata": {},
   "source": [
    "# class variables"
   ]
  },
  {
   "cell_type": "code",
   "execution_count": 2,
   "metadata": {},
   "outputs": [],
   "source": [
    "class Teacher():\n",
    "    counter : int = 0\n",
    "    helpline_number : int = 12345\n",
    "    def __init__(self, teacher_id : int, teacher_name : str) -> None:\n",
    "        self.id = teacher_id\n",
    "        self.name = teacher_name\n",
    "        self.organization = 'PIAIC'\n",
    "\n",
    "    def speak(self, words : str) -> None:\n",
    "        print(f'{self.name} is speaking {words}')\n",
    "\n",
    "    def teaching(self, subject : str) -> None:\n",
    "        print(f'{self.name} is teaching {subject}')\n",
    "\n",
    "    def details(self) -> None:\n",
    "        print(f'{Teacher.helpline_number}')\n",
    "        print(f'{self.helpline_number}')"
   ]
  },
  {
   "cell_type": "code",
   "execution_count": 3,
   "metadata": {},
   "outputs": [
    {
     "name": "stdout",
     "output_type": "stream",
     "text": [
      "0\n",
      "0\n",
      "12345\n",
      "12345\n"
     ]
    }
   ],
   "source": [
    "obj3 : Teacher = Teacher(3, 'Sir Junaid')\n",
    "print(obj3.counter)\n",
    "print(Teacher.counter)\n",
    "(obj3.details())"
   ]
  },
  {
   "attachments": {},
   "cell_type": "markdown",
   "metadata": {},
   "source": [
    "# OOP Pillars\n",
    "* Inheritance\n",
    "* Abstraction\n",
    "* Polymorphism\n",
    "* Encapsulation"
   ]
  },
  {
   "cell_type": "code",
   "execution_count": 20,
   "metadata": {},
   "outputs": [
    {
     "name": "stdout",
     "output_type": "stream",
     "text": [
      "brown\n",
      "black\n",
      "name is ali and eyes color is brown\n"
     ]
    }
   ],
   "source": [
    "class Parents():\n",
    "    def __init__(self) -> None:\n",
    "        self.eyes_color : str = 'brown'\n",
    "        self.hair_color : str = 'black'\n",
    "\n",
    "    def speak(self, name:str) -> None:\n",
    "        print(f'name is {name} and eyes color is {self.eyes_color}')\n",
    "\n",
    "    def watch(self, name:str) -> None:\n",
    "        print(f'name is {name} and he is watching TV')\n",
    "\n",
    "obj1 : Parents = Parents()\n",
    "print(obj1.eyes_color)\n",
    "print(obj1.hair_color)\n",
    "obj1.speak('ali')"
   ]
  },
  {
   "cell_type": "code",
   "execution_count": 21,
   "metadata": {},
   "outputs": [
    {
     "name": "stdout",
     "output_type": "stream",
     "text": [
      "black\n"
     ]
    }
   ],
   "source": [
    "class Child(Parents):\n",
    "    pass\n",
    "\n",
    "obj2 : Child = Child()\n",
    "print(obj2.hair_color)"
   ]
  },
  {
   "cell_type": "code",
   "execution_count": 4,
   "metadata": {},
   "outputs": [
    {
     "name": "stdout",
     "output_type": "stream",
     "text": [
      "Engineering\n"
     ]
    }
   ],
   "source": [
    "class Employe:\n",
    "    def __init__(self, name : str) -> None:\n",
    "        self.name : str = name\n",
    "        self.education : str = 'BSc'\n",
    "        self.department : str = 'Engineering'\n",
    "\n",
    "class Designer(Employe):\n",
    "    def __init__(self, name: str, title : str) -> None:\n",
    "        super().__init__(name)\n",
    "        self.title : str = title\n",
    "\n",
    "class Developer(Employe):\n",
    "    def __init__(self, name: str, skills : str) -> None:\n",
    "        super().__init__(name)\n",
    "        self.skills : list[str] = skills\n",
    "\n",
    "designer : Designer = Designer('wasim', 'UI Engineer')\n",
    "print(designer.department)"
   ]
  },
  {
   "cell_type": "code",
   "execution_count": 1,
   "metadata": {},
   "outputs": [
    {
     "name": "stdout",
     "output_type": "stream",
     "text": [
      "Animation Artist\n",
      "Animation Artist\n",
      "['python']\n"
     ]
    }
   ],
   "source": [
    "from typing import List\n",
    "\n",
    "class Employee:\n",
    "    def __init__(self, name: str) -> None:\n",
    "        self.name: str = name\n",
    "        self.education: str = \"\"\n",
    "        self.department: str = \"\"\n",
    "\n",
    "class Designer(Employee):\n",
    "    def __init__(self, title: str, name: str) -> None:\n",
    "        super().__init__(name)\n",
    "        self.title: str = title\n",
    "\n",
    "class Developer(Employee):\n",
    "    def __init__(self, title: str, name: str) -> None:\n",
    "        super().__init__(name)\n",
    "        self.title: str = title\n",
    "        self.programming_skills: List[str] = [\"python\"]\n",
    "\n",
    "designer1: Designer = Designer(\"Animation Artist\", \"Asif Khan\")\n",
    "dev1: Developer = Developer(\"GenAI Engineer\", \"John Doe\")\n",
    "\n",
    "print(designer1.title)  # Output: Animation Artist\n",
    "print(designer1.name)\n",
    "print(dev1.programming_skills)  # Output: ['python']"
   ]
  },
  {
   "attachments": {},
   "cell_type": "markdown",
   "metadata": {},
   "source": [
    "## Revision\n",
    "### Important Points\n",
    "- super belongs to the parent and it should accept exactly the same parameters as the parent class without type hint\n",
    "- child class constructor must pass the parameters defined in parent constructor. It can have extra \n",
    "- class itself does not accept arguments but arguments always passed by constructor\n",
    "- class can also be defined as ```class Teacher:```"
   ]
  },
  {
   "cell_type": "code",
   "execution_count": 1,
   "metadata": {},
   "outputs": [
    {
     "name": "stdout",
     "output_type": "stream",
     "text": [
      "DS\n",
      "['python']\n"
     ]
    }
   ],
   "source": [
    "    \n",
    "class Employee():\n",
    "    contactNumber : int = 1234567890\n",
    "    def __init__(self, id : int, name : str):\n",
    "        self.id : int = id\n",
    "        self.name : str = name\n",
    "        self.organization : str = \"PerScholas\"\n",
    "        self.company : str = 'DS'\n",
    "        self.location : str = 'NY'\n",
    "\n",
    "class Developer(Employee):\n",
    "    def __init__(self, id : int, name : str, title: str, programming_skills : list[str]):\n",
    "        super().__init__(id, name)\n",
    "        self.title : str = title\n",
    "        self.programming_skills : list[str] = ['python']\n",
    "\n",
    "\n",
    "obj1 : Developer = Developer(1, 'wasim', 'developer', ['python'])\n",
    "print(obj1.company)\n",
    "print(obj1.programming_skills)"
   ]
  }
 ],
 "metadata": {
  "kernelspec": {
   "display_name": "python12",
   "language": "python",
   "name": "python3"
  },
  "language_info": {
   "codemirror_mode": {
    "name": "ipython",
    "version": 3
   },
   "file_extension": ".py",
   "mimetype": "text/x-python",
   "name": "python",
   "nbconvert_exporter": "python",
   "pygments_lexer": "ipython3",
   "version": "3.12.0"
  },
  "orig_nbformat": 4
 },
 "nbformat": 4,
 "nbformat_minor": 2
}
