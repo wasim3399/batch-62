{
 "cells": [
  {
   "attachments": {},
   "cell_type": "markdown",
   "metadata": {},
   "source": [
    "# Loop and User Input\n",
    "# for\n",
    "# while\n",
    "# Loop Controls\n",
    "* break\n",
    "* pass\n",
    "* Continue\n",
    "# Input with input functions\n",
    "# Input from console\n",
    "# Loop on iterative datatypes\n",
    "* list\n",
    "* tuple\n",
    "* string\n",
    "* dictionary\n",
    "* set\n"
   ]
  },
  {
   "cell_type": "code",
   "execution_count": 37,
   "metadata": {},
   "outputs": [
    {
     "name": "stdout",
     "output_type": "stream",
     "text": [
      "0\n",
      "1\n",
      "2\n",
      "3\n",
      "[0, 'pakistan', {'name': 'wasim'}]\n"
     ]
    }
   ],
   "source": [
    "list_data : list[int] = [0, 1, 2, 3]\n",
    "for i in list_data:\n",
    "    print(i)\n",
    "\n",
    "new_list_data : [int, str, dict] = [0, 'pakistan', {'name': 'wasim'}]\n",
    "print(new_list_data)"
   ]
  },
  {
   "cell_type": "code",
   "execution_count": 35,
   "metadata": {},
   "outputs": [
    {
     "name": "stdout",
     "output_type": "stream",
     "text": [
      "0\n",
      "pakistan\n",
      "2\n",
      "india\n"
     ]
    }
   ],
   "source": [
    "tuple_data : tuple[int, str, int, str] = (0, 'pakistan', 2, 'india')\n",
    "for i in tuple_data:\n",
    "    print(i)"
   ]
  },
  {
   "cell_type": "code",
   "execution_count": 3,
   "metadata": {},
   "outputs": [
    {
     "name": "stdout",
     "output_type": "stream",
     "text": [
      "p\n",
      "a\n",
      "k\n",
      "i\n",
      "s\n",
      "t\n",
      "a\n",
      "n\n"
     ]
    }
   ],
   "source": [
    "# string is immutable and an specific value cannot be updated in string\n",
    "string_data : str = 'pakistan'\n",
    "for i in string_data:\n",
    "    print(i)"
   ]
  },
  {
   "cell_type": "code",
   "execution_count": 39,
   "metadata": {},
   "outputs": [
    {
     "name": "stdout",
     "output_type": "stream",
     "text": [
      "value against name is pakistan\n",
      "value against code is pk\n"
     ]
    }
   ],
   "source": [
    "# iteration performs on keys in case of dictionary\n",
    "dictionary_data : dict[str, str] = {'name' : 'pakistan', 'code' : 'pk'}\n",
    "for i in dictionary_data:\n",
    "    print(f'value against {i} is {dictionary_data[i]}')"
   ]
  },
  {
   "cell_type": "code",
   "execution_count": 45,
   "metadata": {},
   "outputs": [
    {
     "name": "stdout",
     "output_type": "stream",
     "text": [
      "name wasim\n",
      "name usman\n"
     ]
    }
   ],
   "source": [
    "# key value for loop works only with tuple\n",
    "data : list[tuple('str')] = [('name', 'wasim'), ('name', 'usman')]\n",
    "\n",
    "for i, v in data:\n",
    "    print(i, v)"
   ]
  },
  {
   "cell_type": "code",
   "execution_count": 18,
   "metadata": {},
   "outputs": [
    {
     "name": "stdout",
     "output_type": "stream",
     "text": [
      "{1, 2, 3, 5}\n",
      "1\n",
      "2\n",
      "3\n",
      "5\n"
     ]
    }
   ],
   "source": [
    "set_data : set[int] = {1, 2, 3, 3, 2, 5}\n",
    "print(set_data)\n",
    "for i in set_data:\n",
    "    print(i)"
   ]
  },
  {
   "cell_type": "code",
   "execution_count": 25,
   "metadata": {},
   "outputs": [
    {
     "name": "stdout",
     "output_type": "stream",
     "text": [
      "[('pakistan', 1, 'pk'), ('india', 2, 'ind'), ('america', 4, 'us')]\n",
      "name is pakistan, grade is 1, and code is pk\n",
      "name is india, grade is 2, and code is ind\n",
      "name is america, grade is 4, and code is us\n"
     ]
    }
   ],
   "source": [
    "# zip function\n",
    "names = ['pakistan', 'india', 'america']\n",
    "grade = [1, 2, 4]\n",
    "code = ['pk', 'ind', 'us']\n",
    "\n",
    "print(list(zip(names, grade, code)))\n",
    "\n",
    "# Corrected zip with 'names'\n",
    "for name, grd, cd in zip(names, grade, code):\n",
    "    print(f'name is {name}, grade is {grd}, and code is {cd}')"
   ]
  },
  {
   "cell_type": "code",
   "execution_count": 47,
   "metadata": {},
   "outputs": [
    {
     "data": {
      "text/html": [
       "<div>\n",
       "<style scoped>\n",
       "    .dataframe tbody tr th:only-of-type {\n",
       "        vertical-align: middle;\n",
       "    }\n",
       "\n",
       "    .dataframe tbody tr th {\n",
       "        vertical-align: top;\n",
       "    }\n",
       "\n",
       "    .dataframe thead th {\n",
       "        text-align: right;\n",
       "    }\n",
       "</style>\n",
       "<table border=\"1\" class=\"dataframe\">\n",
       "  <thead>\n",
       "    <tr style=\"text-align: right;\">\n",
       "      <th></th>\n",
       "      <th>names</th>\n",
       "      <th>grade</th>\n",
       "      <th>code</th>\n",
       "    </tr>\n",
       "  </thead>\n",
       "  <tbody>\n",
       "    <tr>\n",
       "      <th>0</th>\n",
       "      <td>pakistan</td>\n",
       "      <td>1</td>\n",
       "      <td>pk</td>\n",
       "    </tr>\n",
       "    <tr>\n",
       "      <th>1</th>\n",
       "      <td>india</td>\n",
       "      <td>2</td>\n",
       "      <td>ind</td>\n",
       "    </tr>\n",
       "    <tr>\n",
       "      <th>2</th>\n",
       "      <td>america</td>\n",
       "      <td>4</td>\n",
       "      <td>us</td>\n",
       "    </tr>\n",
       "  </tbody>\n",
       "</table>\n",
       "</div>"
      ],
      "text/plain": [
       "      names  grade code\n",
       "0  pakistan      1   pk\n",
       "1     india      2  ind\n",
       "2   america      4   us"
      ]
     },
     "execution_count": 47,
     "metadata": {},
     "output_type": "execute_result"
    }
   ],
   "source": [
    "import pandas as pd\n",
    "\n",
    "names = ['pakistan', 'india', 'america']\n",
    "grade = [1, 2, 4]\n",
    "code = ['pk', 'ind', 'us']\n",
    "\n",
    "data : pd.DataFrame = pd.DataFrame({\n",
    "    'names' : names,\n",
    "    'grade' : grade,\n",
    "    'code' : code\n",
    "})\n",
    "data\n",
    "\n"
   ]
  },
  {
   "cell_type": "code",
   "execution_count": 32,
   "metadata": {},
   "outputs": [
    {
     "name": "stdout",
     "output_type": "stream",
     "text": [
      "1\n",
      "2\n",
      "3\n",
      "4\n",
      "5\n"
     ]
    }
   ],
   "source": [
    "# while loop\n",
    "\n",
    "index : int = 1\n",
    "while index <= 5:\n",
    "    print(index)\n",
    "    index += 1"
   ]
  },
  {
   "cell_type": "code",
   "execution_count": 52,
   "metadata": {},
   "outputs": [
    {
     "name": "stdout",
     "output_type": "stream",
     "text": [
      "1\n",
      "2\n",
      "3\n",
      "4\n"
     ]
    }
   ],
   "source": [
    "data : list[int] = [1, 2, 3, 4]\n",
    "i : int = 0\n",
    "while i < len(data):\n",
    "    print(data[i])\n",
    "    i += 1"
   ]
  },
  {
   "cell_type": "code",
   "execution_count": 6,
   "metadata": {},
   "outputs": [
    {
     "name": "stdout",
     "output_type": "stream",
     "text": [
      "[{'name': 'ali', 'grade': 'ali'}, {'name': 'ali', 'grade': 'das'}]\n"
     ]
    }
   ],
   "source": [
    "#input break system\n",
    "my_data: list[dict[str, str]] = []\n",
    "\n",
    "while True:\n",
    "    name: str = input('Your name is: ')\n",
    "    grade: str = input('Your grade is: ')\n",
    "    \n",
    "    if name in ['quit', 'skip', 'exit'] or grade in ['quit', 'skip', 'exit']:\n",
    "        break\n",
    "    \n",
    "    my_data.append({'name': name, 'grade': grade})\n",
    "\n",
    "print(my_data)"
   ]
  },
  {
   "cell_type": "code",
   "execution_count": 13,
   "metadata": {},
   "outputs": [
    {
     "name": "stdout",
     "output_type": "stream",
     "text": [
      "2 X 1 = 2\n",
      "2 X 2 = 4\n",
      "2 X 3 = 6\n",
      "2 X 5 = 10\n",
      "2 X 6 = 12\n",
      "2 X 7 = 14\n",
      "2 X 8 = 16\n",
      "2 X 9 = 18\n",
      "2 X 10 = 20\n",
      "\n",
      "\n",
      "2 X 1 = 2\n",
      "2 X 2 = 4\n",
      "2 X 3 = 6\n"
     ]
    }
   ],
   "source": [
    "my_range = range(1, 11)\n",
    "\n",
    "for i in my_range:\n",
    "    if i == 4:\n",
    "        continue\n",
    "    print(f'2 X {i} = {2*i}')\n",
    "\n",
    "print('\\n')\n",
    "\n",
    "for i in my_range:\n",
    "    if i == 4:\n",
    "        break\n",
    "    print(f'2 X {i} = {2*i}')"
   ]
  },
  {
   "cell_type": "code",
   "execution_count": 16,
   "metadata": {},
   "outputs": [
    {
     "name": "stdout",
     "output_type": "stream",
     "text": [
      "hello world\n"
     ]
    }
   ],
   "source": [
    "# if we don't want to generate an error or have plan to write logic later, we use pass\n",
    "\n",
    "def myFunction(a : int, b : int, c : int) -> int:\n",
    "    pass\n",
    "\n",
    "print('hello world')\n",
    "\n",
    "myFunction(1,2,3)"
   ]
  }
 ],
 "metadata": {
  "kernelspec": {
   "display_name": "python12",
   "language": "python",
   "name": "python3"
  },
  "language_info": {
   "codemirror_mode": {
    "name": "ipython",
    "version": 3
   },
   "file_extension": ".py",
   "mimetype": "text/x-python",
   "name": "python",
   "nbconvert_exporter": "python",
   "pygments_lexer": "ipython3",
   "version": "3.12.0"
  },
  "orig_nbformat": 4
 },
 "nbformat": 4,
 "nbformat_minor": 2
}
