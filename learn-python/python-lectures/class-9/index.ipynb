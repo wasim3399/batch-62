{
 "cells": [
  {
   "attachments": {},
   "cell_type": "markdown",
   "metadata": {},
   "source": [
    "# Loop and User Input\n",
    "# for\n",
    "# while\n",
    "# Loop Controls\n",
    "* break\n",
    "* pass\n",
    "* Continue\n",
    "# Input with input functions\n",
    "# Input from console\n",
    "# Loop on iterative datatypes\n",
    "* list\n",
    "* tuple\n",
    "* string\n",
    "* dictionary\n"
   ]
  },
  {
   "cell_type": "code",
   "execution_count": 1,
   "metadata": {},
   "outputs": [
    {
     "name": "stdout",
     "output_type": "stream",
     "text": [
      "0\n",
      "1\n",
      "2\n",
      "3\n"
     ]
    }
   ],
   "source": [
    "list_data : list[int] = [0, 1, 2, 3]\n",
    "for i in list_data:\n",
    "    print(i)"
   ]
  },
  {
   "cell_type": "code",
   "execution_count": 2,
   "metadata": {},
   "outputs": [
    {
     "name": "stdout",
     "output_type": "stream",
     "text": [
      "0\n",
      "pakistan\n",
      "2\n",
      "india\n"
     ]
    }
   ],
   "source": [
    "tuple_data : tuple[int, str, int, str] = (0, 'pakistan', 2, 'india')\n",
    "for i in tuple_data:\n",
    "    print(i)"
   ]
  },
  {
   "cell_type": "code",
   "execution_count": 3,
   "metadata": {},
   "outputs": [
    {
     "name": "stdout",
     "output_type": "stream",
     "text": [
      "p\n",
      "a\n",
      "k\n",
      "i\n",
      "s\n",
      "t\n",
      "a\n",
      "n\n"
     ]
    }
   ],
   "source": [
    "# string is immutable and an specific value cannot be updated in string\n",
    "string_data : str = 'pakistan'\n",
    "for i in string_data:\n",
    "    print(i)"
   ]
  },
  {
   "cell_type": "code",
   "execution_count": 5,
   "metadata": {},
   "outputs": [
    {
     "name": "stdout",
     "output_type": "stream",
     "text": [
      "value against name is pakistan\n",
      "value against code is pk\n"
     ]
    }
   ],
   "source": [
    "# iteration performs on keys in case of dictionary\n",
    "dictionary_data : dict[str, str] = {'name' : 'pakistan', 'code' : 'pk'}\n",
    "for i in dictionary_data:\n",
    "    print(f'value against {i} is {dictionary_data[i]}')"
   ]
  },
  {
   "cell_type": "code",
   "execution_count": 6,
   "metadata": {},
   "outputs": [
    {
     "name": "stdout",
     "output_type": "stream",
     "text": [
      "{1, 2, 3, 5}\n",
      "1\n",
      "2\n",
      "3\n",
      "5\n"
     ]
    }
   ],
   "source": [
    "set_data : set[int] = {1, 2, 3, 3, 2, 5}\n",
    "print(set_data)\n",
    "for i in set_data:\n",
    "    print(i)"
   ]
  },
  {
   "cell_type": "code",
   "execution_count": 8,
   "metadata": {},
   "outputs": [
    {
     "name": "stdout",
     "output_type": "stream",
     "text": [
      "name is pakistan and code is pk and code is pk\n",
      "name is india and code is ind and code is ind\n",
      "name is america and code is us and code is us\n"
     ]
    }
   ],
   "source": [
    "# zip function\n",
    "names : list[str] = ['pakistan', 'india', 'america']\n",
    "grade : list[int] = [1, 2, 4]\n",
    "code : list[str] = ['pk', 'ind', 'us']\n",
    "\n",
    "list(zip(name, grade, code))\n",
    "\n",
    "for name, grd, cd in zip(name, grade, code):\n",
    "    print(f'name is {name} and code is {cd} and code is {cd}')"
   ]
  },
  {
   "cell_type": "code",
   "execution_count": 9,
   "metadata": {},
   "outputs": [
    {
     "name": "stdout",
     "output_type": "stream",
     "text": [
      "1\n",
      "2\n",
      "3\n",
      "4\n",
      "5\n",
      "6\n",
      "7\n",
      "8\n",
      "9\n",
      "10\n"
     ]
    }
   ],
   "source": [
    "# while loop\n",
    "\n",
    "index : int = 1\n",
    "while index <= 10:\n",
    "    print(index)\n",
    "    index += 1"
   ]
  },
  {
   "cell_type": "code",
   "execution_count": 11,
   "metadata": {},
   "outputs": [
    {
     "name": "stdout",
     "output_type": "stream",
     "text": [
      "1\n",
      "2\n",
      "3\n",
      "4\n"
     ]
    }
   ],
   "source": [
    "data : list[int] = [1, 2, 3, 4]\n",
    "index : int = 0\n",
    "while index < len(data):\n",
    "    print(data[index])\n",
    "    index += 1"
   ]
  },
  {
   "cell_type": "code",
   "execution_count": 6,
   "metadata": {},
   "outputs": [
    {
     "name": "stdout",
     "output_type": "stream",
     "text": [
      "[{'name': 'ali', 'grade': 'ali'}, {'name': 'ali', 'grade': 'das'}]\n"
     ]
    }
   ],
   "source": [
    "#input break system\n",
    "my_data: list[dict[str, str]] = []\n",
    "\n",
    "while True:\n",
    "    name: str = input('Your name is: ')\n",
    "    grade: str = input('Your grade is: ')\n",
    "    \n",
    "    if name in ['quit', 'skip', 'exit'] or grade in ['quit', 'skip', 'exit']:\n",
    "        break\n",
    "    \n",
    "    my_data.append({'name': name, 'grade': grade})\n",
    "\n",
    "print(my_data)"
   ]
  },
  {
   "cell_type": "code",
   "execution_count": 13,
   "metadata": {},
   "outputs": [
    {
     "name": "stdout",
     "output_type": "stream",
     "text": [
      "2 X 1 = 2\n",
      "2 X 2 = 4\n",
      "2 X 3 = 6\n",
      "2 X 5 = 10\n",
      "2 X 6 = 12\n",
      "2 X 7 = 14\n",
      "2 X 8 = 16\n",
      "2 X 9 = 18\n",
      "2 X 10 = 20\n",
      "\n",
      "\n",
      "2 X 1 = 2\n",
      "2 X 2 = 4\n",
      "2 X 3 = 6\n"
     ]
    }
   ],
   "source": [
    "my_range = range(1, 11)\n",
    "\n",
    "for i in my_range:\n",
    "    if i == 4:\n",
    "        continue\n",
    "    print(f'2 X {i} = {2*i}')\n",
    "\n",
    "print('\\n')\n",
    "\n",
    "for i in my_range:\n",
    "    if i == 4:\n",
    "        break\n",
    "    print(f'2 X {i} = {2*i}')"
   ]
  },
  {
   "cell_type": "code",
   "execution_count": 16,
   "metadata": {},
   "outputs": [
    {
     "name": "stdout",
     "output_type": "stream",
     "text": [
      "hello world\n"
     ]
    }
   ],
   "source": [
    "# if we don't want to generate an error or have plan to write logic later, we use pass\n",
    "\n",
    "def myFunction(a : int, b : int, c : int) -> int:\n",
    "    pass\n",
    "\n",
    "print('hello world')\n",
    "\n",
    "myFunction(1,2,3)"
   ]
  }
 ],
 "metadata": {
  "kernelspec": {
   "display_name": "python12",
   "language": "python",
   "name": "python3"
  },
  "language_info": {
   "codemirror_mode": {
    "name": "ipython",
    "version": 3
   },
   "file_extension": ".py",
   "mimetype": "text/x-python",
   "name": "python",
   "nbconvert_exporter": "python",
   "pygments_lexer": "ipython3",
   "version": "3.12.0"
  },
  "orig_nbformat": 4
 },
 "nbformat": 4,
 "nbformat_minor": 2
}
