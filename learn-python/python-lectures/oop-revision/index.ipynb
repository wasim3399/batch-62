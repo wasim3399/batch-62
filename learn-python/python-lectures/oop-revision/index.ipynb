{
 "cells": [
  {
   "attachments": {},
   "cell_type": "markdown",
   "metadata": {},
   "source": [
    "# OOP Practice"
   ]
  },
  {
   "attachments": {},
   "cell_type": "markdown",
   "metadata": {},
   "source": [
    "## string method"
   ]
  },
  {
   "cell_type": "code",
   "execution_count": 32,
   "metadata": {},
   "outputs": [
    {
     "name": "stdout",
     "output_type": "stream",
     "text": [
      "teacher name is Ali and age is 33\n"
     ]
    }
   ],
   "source": [
    "class Teacher:\n",
    "    def __init__(self, name : str, age : int):\n",
    "        self.name : str = name\n",
    "        self.age : int = age\n",
    "    \n",
    "    def __str__(self) -> str:\n",
    "        return f'teacher name is {self.name} and age is {self.age}'\n",
    "\n",
    "obj1 = Teacher(\"Ali\", 33)\n",
    "print(obj1)\n",
    "\n"
   ]
  },
  {
   "attachments": {},
   "cell_type": "markdown",
   "metadata": {},
   "source": [
    "## general class method access with an object"
   ]
  },
  {
   "cell_type": "code",
   "execution_count": 33,
   "metadata": {},
   "outputs": [
    {
     "name": "stdout",
     "output_type": "stream",
     "text": [
      "Ali\n"
     ]
    }
   ],
   "source": [
    "class Teacher:\n",
    "    def __init__(self, name : str, age : int, subject : str):\n",
    "        self.name : str = name\n",
    "        self.age : int = age\n",
    "        self.subject : str = subject\n",
    "\n",
    "    def teach(self):\n",
    "        print(f\"{self.name} is teaching {self.subject}.\")\n",
    "\n",
    "obj1 = Teacher(\"Ali\", 30, \"Math\")\n",
    "print(obj1.name)"
   ]
  },
  {
   "attachments": {},
   "cell_type": "markdown",
   "metadata": {},
   "source": [
    "## Available methods for an object"
   ]
  },
  {
   "cell_type": "code",
   "execution_count": 34,
   "metadata": {},
   "outputs": [
    {
     "data": {
      "text/plain": [
       "['__class__',\n",
       " '__delattr__',\n",
       " '__dict__',\n",
       " '__dir__',\n",
       " '__doc__',\n",
       " '__eq__',\n",
       " '__format__',\n",
       " '__ge__',\n",
       " '__getattribute__',\n",
       " '__getstate__',\n",
       " '__gt__',\n",
       " '__hash__',\n",
       " '__init__',\n",
       " '__init_subclass__',\n",
       " '__le__',\n",
       " '__lt__',\n",
       " '__module__',\n",
       " '__ne__',\n",
       " '__new__',\n",
       " '__reduce__',\n",
       " '__reduce_ex__',\n",
       " '__repr__',\n",
       " '__setattr__',\n",
       " '__sizeof__',\n",
       " '__str__',\n",
       " '__subclasshook__',\n",
       " '__weakref__',\n",
       " 'age',\n",
       " 'name',\n",
       " 'subject',\n",
       " 'teach']"
      ]
     },
     "execution_count": 34,
     "metadata": {},
     "output_type": "execute_result"
    }
   ],
   "source": [
    "dir(obj1)"
   ]
  },
  {
   "attachments": {},
   "cell_type": "markdown",
   "metadata": {},
   "source": [
    "## List ccustom methods"
   ]
  },
  {
   "cell_type": "code",
   "execution_count": 35,
   "metadata": {},
   "outputs": [
    {
     "name": "stdout",
     "output_type": "stream",
     "text": [
      "['age', 'name', 'subject', 'teach']\n"
     ]
    }
   ],
   "source": [
    "print([i for i in dir(obj1) if '__' not in i])"
   ]
  },
  {
   "attachments": {},
   "cell_type": "markdown",
   "metadata": {},
   "source": [
    "## Class variables and methods to access them\n",
    "- Class variables can be accessed by an object and also directly"
   ]
  },
  {
   "cell_type": "code",
   "execution_count": 36,
   "metadata": {},
   "outputs": [
    {
     "name": "stdout",
     "output_type": "stream",
     "text": [
      "Phone number is 213456\n",
      "Phone number is 213456\n"
     ]
    },
    {
     "data": {
      "text/plain": [
       "213456"
      ]
     },
     "execution_count": 36,
     "metadata": {},
     "output_type": "execute_result"
    }
   ],
   "source": [
    "class Teacher:\n",
    "\n",
    "    phone : int = 213456\n",
    "\n",
    "    def __init__(self, name : str, age : int, subject : str):\n",
    "        self.name : str = name\n",
    "        self.age : int = age\n",
    "        self.subject : str = subject\n",
    "\n",
    "    def teach(self):\n",
    "        print(f\"{self.name} is teaching {self.subject}.\")\n",
    "\n",
    "    def speak(self, words):\n",
    "        print(f\"{self.name} says: {words}\")\n",
    "\n",
    "    def details(self):\n",
    "        print(f'Phone number is {Teacher.phone}')\n",
    "        print(f'Phone number is {self.phone}')\n",
    "\n",
    "obj1 : Teacher = Teacher(\"Waseem\", 23, \"Python\")\n",
    "obj1.details()\n",
    "Teacher.phone"
   ]
  },
  {
   "attachments": {},
   "cell_type": "markdown",
   "metadata": {},
   "source": [
    "## OOP Pillars"
   ]
  },
  {
   "attachments": {},
   "cell_type": "markdown",
   "metadata": {},
   "source": [
    "### Inheritence"
   ]
  },
  {
   "cell_type": "code",
   "execution_count": 37,
   "metadata": {},
   "outputs": [
    {
     "name": "stdout",
     "output_type": "stream",
     "text": [
      "name is ali and eyes color is brown and hair color is black\n",
      "name is Qasim and he is watching TV\n"
     ]
    }
   ],
   "source": [
    "class Parents:\n",
    "    def __init__(self):\n",
    "        self.eye_color : str = 'brown'\n",
    "        self.hair_color : str = 'black'\n",
    "\n",
    "    def speak(self, name : str):\n",
    "        print(f'name is {name} and eyes color is {self.eye_color} and hair color is {self.hair_color}')\n",
    "\n",
    "    def watch(self, name : str):\n",
    "        print(f'name is {name} and he is watching TV')\n",
    "\n",
    "\n",
    "obj1 : Parents = Parents()\n",
    "obj1.speak('ali')\n",
    "obj1.eye_color\n",
    "obj1.watch('Qasim')"
   ]
  },
  {
   "cell_type": "code",
   "execution_count": 38,
   "metadata": {},
   "outputs": [
    {
     "name": "stdout",
     "output_type": "stream",
     "text": [
      "brown\n",
      "name is usman and eyes color is brown and hair color is black\n"
     ]
    }
   ],
   "source": [
    "class Child(Parents):\n",
    "    def __init__(self):\n",
    "        super().__init__()\n",
    "\n",
    "obj2 : Child = Child()\n",
    "\n",
    "print(obj2.eye_color)\n",
    "obj2.speak('usman')"
   ]
  },
  {
   "cell_type": "code",
   "execution_count": 39,
   "metadata": {},
   "outputs": [
    {
     "name": "stdout",
     "output_type": "stream",
     "text": [
      "waseem\n",
      "['python']\n",
      "IT\n",
      "200\n"
     ]
    }
   ],
   "source": [
    "class Employee:\n",
    "    def __init__(self, name : str, age : int, salary : int):\n",
    "        self.name : str = name\n",
    "        self.age : int = age\n",
    "        self.salary : int = salary\n",
    "\n",
    "class Developer(Employee):\n",
    "    def __init__(self, name : str, age : int, salary : int, department : str):\n",
    "        super().__init__(name, age, salary)\n",
    "        self.programming_skills : list['str'] = ['python']\n",
    "        self.department : str = department\n",
    "\n",
    "\n",
    "emp_obj : Employee = Employee(\"waseem\", 25, 1000)\n",
    "print(emp_obj.name)\n",
    "\n",
    "dev_obj : Developer = Developer(\"developer\", 125, 200, \"IT\")\n",
    "\n",
    "print(dev_obj.programming_skills)\n",
    "print(dev_obj.department)\n",
    "print(dev_obj.salary)"
   ]
  },
  {
   "attachments": {},
   "cell_type": "markdown",
   "metadata": {},
   "source": [
    "## Multiple inheritence"
   ]
  },
  {
   "cell_type": "code",
   "execution_count": 2,
   "metadata": {},
   "outputs": [
    {
     "data": {
      "text/plain": [
       "'Naseem Bano'"
      ]
     },
     "execution_count": 2,
     "metadata": {},
     "output_type": "execute_result"
    }
   ],
   "source": [
    "class Father():\n",
    "    def __init__(self, name):\n",
    "        self.name = name\n",
    "\n",
    "    def speakings(self, words):\n",
    "        return f\"Father Speaking function: {words}\" \n",
    "    \n",
    "class Mother():\n",
    "    def __init__(self, name):\n",
    "        self.name = name\n",
    "\n",
    "    def speakings(self, words):\n",
    "        return f\"Mother Speaking function: {words}\"\n",
    "    \n",
    "class Child(Father, Mother):\n",
    "    def __init__(self, mother_name, father_name, child_name):\n",
    "        Mother.__init__(self, mother_name)\n",
    "        Father.__init__(self, father_name) # later class will over write the name property.\n",
    "        self.child_name = child_name\n",
    "\n",
    "obj1 : Child = Child('Naseem Bano', 'Qasim Ali', 'Abdullah')\n",
    "obj1.speakings(\"Pakistan zinda bad\")\n",
    "obj1.name"
   ]
  },
  {
   "attachments": {},
   "cell_type": "markdown",
   "metadata": {},
   "source": [
    "### Problem / Solution with name attribute (by changing variable name)"
   ]
  },
  {
   "cell_type": "code",
   "execution_count": 3,
   "metadata": {},
   "outputs": [],
   "source": [
    "class Father:\n",
    "    def __init__(self, father_name):\n",
    "        self.father_name = father_name\n",
    "        self.height = '5 feet'\n",
    "\n",
    "    def speaking(self, words):\n",
    "        print(f'Father speaking: {words}')\n",
    "\n",
    "class Mother:\n",
    "    def __init__(self, mother_name):\n",
    "        self.mother_name = mother_name\n",
    "        self.eye_color = 'blue'\n",
    "\n",
    "    def speaking(self, words):\n",
    "        print(f'Mother speaking: {words}')\n",
    "\n",
    "class Child(Mother, Father):\n",
    "    def __init__(self, mother_name, father_name, child_name):\n",
    "        Mother.__init__(self, mother_name)\n",
    "        Father.__init__(self, father_name)\n",
    "        self.child_name = child_name"
   ]
  },
  {
   "cell_type": "code",
   "execution_count": 4,
   "metadata": {},
   "outputs": [
    {
     "name": "stdout",
     "output_type": "stream",
     "text": [
      "Mother speaking: Pakistan zinda bad\n"
     ]
    },
    {
     "data": {
      "text/plain": [
       "'Kalsoom'"
      ]
     },
     "execution_count": 4,
     "metadata": {},
     "output_type": "execute_result"
    }
   ],
   "source": [
    "obj1 : Child = Child('Kalsoom', 'Abdullah', 'Nasir')\n",
    "obj1.speaking('Pakistan zinda bad')\n",
    "\n",
    "obj1.mother_name"
   ]
  },
  {
   "cell_type": "code",
   "execution_count": 41,
   "metadata": {},
   "outputs": [
    {
     "data": {
      "text/plain": [
       "'Mother Speaking function: Pakistan zinda bad'"
      ]
     },
     "execution_count": 41,
     "metadata": {},
     "output_type": "execute_result"
    }
   ],
   "source": [
    "class Father():\n",
    "    def __init__(self, name):\n",
    "        self.name = name\n",
    "\n",
    "    def speakings(self, words):\n",
    "        return f\"Father Speaking function: {words}\" \n",
    "    \n",
    "class Mother():\n",
    "    def __init__(self, name):\n",
    "        self.name = name\n",
    "\n",
    "    def speakings(self, words):\n",
    "        return f\"Mother Speaking function: {words}\"\n",
    "    \n",
    "class Child(Mother, Father):\n",
    "    def __init__(self, mother_name, father_name, child_name):\n",
    "        Mother.__init__(self, mother_name)\n",
    "        Father.__init__(self, father_name)\n",
    "        self.child_name = child_name\n",
    "\n",
    "obj1 : Child = Child('Naseem Bano', 'Qasim Ali', 'Abdullah')\n",
    "obj1.speakings(\"Pakistan zinda bad\")"
   ]
  },
  {
   "attachments": {},
   "cell_type": "markdown",
   "metadata": {},
   "source": [
    "## Overloading\n",
    "- Remember that overloadig does not belongs to the Polymorphism\n",
    "- Function with same name but arguments with different types. And when call the function, type of arguments will decide on run time which function will execute"
   ]
  },
  {
   "attachments": {},
   "cell_type": "markdown",
   "metadata": {},
   "source": [
    "## Function overloading"
   ]
  },
  {
   "cell_type": "code",
   "execution_count": 48,
   "metadata": {},
   "outputs": [
    {
     "name": "stdout",
     "output_type": "stream",
     "text": [
      "3\n",
      "4.0\n",
      "Hello, World!\n"
     ]
    },
    {
     "ename": "TypeError",
     "evalue": "Invalid argument types!",
     "output_type": "error",
     "traceback": [
      "\u001b[0;31m---------------------------------------------------------------------------\u001b[0m",
      "\u001b[0;31mTypeError\u001b[0m                                 Traceback (most recent call last)",
      "Cell \u001b[0;32mIn[48], line 32\u001b[0m\n\u001b[1;32m     30\u001b[0m \u001b[39mprint\u001b[39m(add(\u001b[39m1.5\u001b[39m, \u001b[39m2.5\u001b[39m))  \u001b[39m# Should return 4.0\u001b[39;00m\n\u001b[1;32m     31\u001b[0m \u001b[39mprint\u001b[39m(add(\u001b[39m\"\u001b[39m\u001b[39mHello, \u001b[39m\u001b[39m\"\u001b[39m, \u001b[39m\"\u001b[39m\u001b[39mWorld!\u001b[39m\u001b[39m\"\u001b[39m))  \u001b[39m# Should return \"Hello, World!\"\u001b[39;00m\n\u001b[0;32m---> 32\u001b[0m \u001b[39mprint\u001b[39m(add(\u001b[39m1\u001b[39;49m, \u001b[39m2.5\u001b[39;49m))  \u001b[39m# Should raise TypeError\u001b[39;00m\n",
      "Cell \u001b[0;32mIn[48], line 26\u001b[0m, in \u001b[0;36madd\u001b[0;34m(x, y)\u001b[0m\n\u001b[1;32m     24\u001b[0m     \u001b[39mreturn\u001b[39;00m x \u001b[39m+\u001b[39m y\n\u001b[1;32m     25\u001b[0m \u001b[39melse\u001b[39;00m:\n\u001b[0;32m---> 26\u001b[0m     \u001b[39mraise\u001b[39;00m \u001b[39mTypeError\u001b[39;00m(\u001b[39m\"\u001b[39m\u001b[39mInvalid argument types!\u001b[39m\u001b[39m\"\u001b[39m)\n",
      "\u001b[0;31mTypeError\u001b[0m: Invalid argument types!"
     ]
    }
   ],
   "source": [
    "from typing import overload\n",
    "from typing import Union\n",
    "\n",
    "# define add functions\n",
    "@overload\n",
    "def add(x: int, y: int) -> int:\n",
    "    return x + y\n",
    "\n",
    "@overload\n",
    "def add(x: float, y: float) -> float:\n",
    "    return x + y\n",
    "\n",
    "@overload\n",
    "def add(x: str, y: str) -> str:\n",
    "    return x + y\n",
    "\n",
    "# declare or implement add function\n",
    "def add(x : Union[int, float, str], y : Union[int, float, str]) -> Union[int, float, str]:\n",
    "    if isinstance(x, int) and isinstance(y, int):\n",
    "        return x + y\n",
    "    elif isinstance(x, float) and isinstance(y, float):\n",
    "        return x + y\n",
    "    elif isinstance(x, str) and isinstance(y, str):\n",
    "        return x + y\n",
    "    else:\n",
    "        raise TypeError(\"Invalid argument types!\")\n",
    "    \n",
    "# call add fucntion now that will decide on runtime\n",
    "print(add(1, 2))  # Should return 3\n",
    "print(add(1.5, 2.5))  # Should return 4.0\n",
    "print(add(\"Hello, \", \"World!\"))  # Should return \"Hello, World!\"\n",
    "print(add(1, 2.5))  # Should raise TypeError"
   ]
  },
  {
   "attachments": {},
   "cell_type": "markdown",
   "metadata": {},
   "source": [
    "# Method overloading\n",
    "- Same implementation within the class is referred to as ```Method Overloading```\n",
    "- Need self to access variabes ofcourse"
   ]
  },
  {
   "cell_type": "code",
   "execution_count": 50,
   "metadata": {},
   "outputs": [
    {
     "data": {
      "text/plain": [
       "4.0"
      ]
     },
     "execution_count": 50,
     "metadata": {},
     "output_type": "execute_result"
    }
   ],
   "source": [
    "from typing import overload\n",
    "from typing import Union\n",
    "\n",
    "class Adder:\n",
    "    # define add functions\n",
    "    @overload\n",
    "    def add(self, x: int, y: int) -> int:\n",
    "        return x + y\n",
    "\n",
    "    @overload\n",
    "    def add(self, x: float, y: float) -> float:\n",
    "        return x + y\n",
    "\n",
    "    @overload\n",
    "    def add(self, x: str, y: str) -> str:\n",
    "        return x + y\n",
    "\n",
    "    # declare or implement add function\n",
    "    def add(self, x : Union[int, float, str], y : Union[int, float, str]) -> Union[int, float, str]:\n",
    "        if isinstance(x, int) and isinstance(y, int):\n",
    "            return x + y\n",
    "        elif isinstance(x, float) and isinstance(y, float):\n",
    "            return x + y\n",
    "        elif isinstance(x, str) and isinstance(y, str):\n",
    "            return x + y\n",
    "        else:\n",
    "            raise TypeError(\"Invalid argument types!\")\n",
    "        \n",
    "\n",
    "# create an instance of the Adder class\n",
    "adder = Adder()\n",
    "adder.add(1, 2)  # Should return 3\n",
    "adder.add(1.5, 2.5)  # Should return 4.0\n",
    "        "
   ]
  },
  {
   "attachments": {},
   "cell_type": "markdown",
   "metadata": {},
   "source": [
    "## Polymorphism & Overriding\n",
    "- Having parent child classes having same methods. Now creating instance of one class but making object of other class. This is called polymorphism"
   ]
  },
  {
   "cell_type": "code",
   "execution_count": 56,
   "metadata": {},
   "outputs": [
    {
     "name": "stdout",
     "output_type": "stream",
     "text": [
      "Animal is eating food\n",
      "Bird is eating food\n",
      "Bird is eating food\n"
     ]
    }
   ],
   "source": [
    "class Animal:\n",
    "    def eating(self, food : str) -> None:\n",
    "        print(f\"Animal is eating {food}\")\n",
    "\n",
    "class Bird(Animal):\n",
    "    def eating(self, food : str) -> None:\n",
    "        print(f\"Bird is eating {food}\")\n",
    "\n",
    "obj1 : Animal = Animal()\n",
    "obj1.eating('food')\n",
    "\n",
    "obj2 : Bird = Bird()\n",
    "obj2.eating('food')\n",
    "\n",
    "obj3 : Animal = Bird()\n",
    "obj3.eating('food')"
   ]
  },
  {
   "attachments": {},
   "cell_type": "markdown",
   "metadata": {},
   "source": [
    "## Static methods and static variables"
   ]
  },
  {
   "cell_type": "code",
   "execution_count": 62,
   "metadata": {},
   "outputs": [
    {
     "data": {
      "text/plain": [
       "30"
      ]
     },
     "execution_count": 62,
     "metadata": {},
     "output_type": "execute_result"
    }
   ],
   "source": [
    "class MathOperations:\n",
    "    organization : str = 'PIAIC' # class variables availabe directly and by making an object\n",
    "\n",
    "    @staticmethod\n",
    "    def add(x: int, y: int) -> int:\n",
    "        \"\"\"Add two numbers.\"\"\"\n",
    "        return x + y\n",
    "    \n",
    "    @staticmethod\n",
    "    def multiply(x: int, y: int) -> int:\n",
    "        \"\"\"Multiply two numbers.\"\"\"\n",
    "        return x * y\n",
    "    \n",
    "MathOperations.organization\n",
    "MathOperations.add(10,20)"
   ]
  },
  {
   "attachments": {},
   "cell_type": "markdown",
   "metadata": {},
   "source": [
    "## Everything is object in python\n",
    "-- ```class Human()``` and ```class Human(object)``` both are same"
   ]
  },
  {
   "cell_type": "code",
   "execution_count": 63,
   "metadata": {},
   "outputs": [
    {
     "name": "stdout",
     "output_type": "stream",
     "text": [
      "Human is eating Biryani\n"
     ]
    }
   ],
   "source": [
    "class Human():\n",
    "    def eating(self, food : str) -> None:\n",
    "        print(f\"Human is eating {food}\")\n",
    "\n",
    "\n",
    "obj1 : Human = Human()\n",
    "obj1.eating(\"Biryani\")"
   ]
  },
  {
   "cell_type": "code",
   "execution_count": 64,
   "metadata": {},
   "outputs": [
    {
     "name": "stdout",
     "output_type": "stream",
     "text": [
      "Human is eating Nihari\n"
     ]
    }
   ],
   "source": [
    "class Human(object):\n",
    "    def eating(self, food : str) -> None:\n",
    "        print(f\"Human is eating {food}\")\n",
    "\n",
    "\n",
    "obj1 : Human = Human()\n",
    "obj1.eating(\"Nihari\")"
   ]
  },
  {
   "attachments": {},
   "cell_type": "markdown",
   "metadata": {},
   "source": [
    "## Callable\n",
    "- These are the default methods that always execute behind the scene. We declare this manually if want to override some value or perform some actions"
   ]
  },
  {
   "cell_type": "code",
   "execution_count": 66,
   "metadata": {},
   "outputs": [
    {
     "name": "stdout",
     "output_type": "stream",
     "text": [
      "eating Biryani\n",
      "eating Nihari\n"
     ]
    }
   ],
   "source": [
    "from typing import Any\n",
    "\n",
    "\n",
    "class Human:\n",
    "    def eating(self, food : str) -> None:\n",
    "        print(f\"eating {food}\")\n",
    "\n",
    "    def __call__(self) -> Any:\n",
    "        print(f'eating Nihari')\n",
    "\n",
    "obj1 : Human = Human()\n",
    "obj1.eating(\"Biryani\")\n",
    "obj1.__call__()"
   ]
  },
  {
   "cell_type": "code",
   "execution_count": 68,
   "metadata": {},
   "outputs": [
    {
     "name": "stdout",
     "output_type": "stream",
     "text": [
      "[10]\n",
      "[10, 20]\n"
     ]
    },
    {
     "data": {
      "text/plain": [
       "15.0"
      ]
     },
     "execution_count": 68,
     "metadata": {},
     "output_type": "execute_result"
    }
   ],
   "source": [
    "from typing import Any\n",
    "\n",
    "\n",
    "class CalculateAverage():\n",
    "    def __init__(self):\n",
    "        self.data = []\n",
    "\n",
    "    def __call__(self, numbers) -> Any:\n",
    "        self.data.append(numbers)\n",
    "        print(self.data)\n",
    "        # calculate average\n",
    "        average = sum(self.data) / len(self.data)\n",
    "        return average\n",
    "    \n",
    "\n",
    "\n",
    "avg : CalculateAverage = CalculateAverage()\n",
    "avg(10)\n",
    "avg(20)\n"
   ]
  },
  {
   "cell_type": "code",
   "execution_count": 73,
   "metadata": {},
   "outputs": [
    {
     "name": "stdout",
     "output_type": "stream",
     "text": [
      "{0: 1, 1: 1, 2: 2}\n",
      "{0: 1, 1: 1, 2: 2, 3: 6}\n",
      "{0: 1, 1: 1, 2: 2, 3: 6, 4: 24}\n"
     ]
    },
    {
     "data": {
      "text/plain": [
       "24"
      ]
     },
     "execution_count": 73,
     "metadata": {},
     "output_type": "execute_result"
    }
   ],
   "source": [
    "# Factorial Logic\n",
    "class CalculateFactorial():\n",
    "    def __init__(self) -> None:\n",
    "        self.cache : dict = {0 : 1, 1 : 1}\n",
    "\n",
    "    def __call__(self, number : int) -> int:\n",
    "        if number in self.cache:\n",
    "            return self.cache[number]\n",
    "        else:\n",
    "            self.cache[number] = number * self(number - 1)\n",
    "            print(self.cache)\n",
    "            return self.cache[number]\n",
    "        \n",
    "obj1 : CalculateFactorial = CalculateFactorial()\n",
    "obj1(3)\n",
    "obj1(3)\n",
    "obj1(4)"
   ]
  },
  {
   "attachments": {},
   "cell_type": "markdown",
   "metadata": {},
   "source": [
    "## Modules"
   ]
  },
  {
   "cell_type": "code",
   "execution_count": 75,
   "metadata": {},
   "outputs": [
    {
     "name": "stdout",
     "output_type": "stream",
     "text": [
      "Code from PIAIC\n"
     ]
    }
   ],
   "source": [
    "from piaic.my_code import Code\n",
    "\n",
    "obj : Code = Code()\n"
   ]
  },
  {
   "attachments": {},
   "cell_type": "markdown",
   "metadata": {},
   "source": [
    "## Access control modifiers\n",
    "- public\n",
    "- __private\n",
    "- _protected"
   ]
  },
  {
   "cell_type": "code",
   "execution_count": 79,
   "metadata": {},
   "outputs": [
    {
     "data": {
      "text/plain": [
       "'ds@gmail.com'"
      ]
     },
     "execution_count": 79,
     "metadata": {},
     "output_type": "execute_result"
    }
   ],
   "source": [
    "class DS:\n",
    "    def __init__(self):\n",
    "        self.name = 'DS'\n",
    "        self._phone = 1234\n",
    "        self.__email = 'ds@gmail.com'\n",
    "\n",
    "obj : DS = DS()\n",
    "obj.name\n",
    "obj._phone\n",
    "obj._DS__email\n",
    "\n",
    "    "
   ]
  },
  {
   "attachments": {},
   "cell_type": "markdown",
   "metadata": {},
   "source": [
    "## Abstract class\n",
    "- A class that has atleast one abstract method\n",
    "- Method is just a signature in the base clss and has no implementation\n",
    "- Always a child class is required for the implementation"
   ]
  },
  {
   "cell_type": "code",
   "execution_count": 80,
   "metadata": {},
   "outputs": [
    {
     "data": {
      "text/plain": [
       "'Cat is eating mouse'"
      ]
     },
     "execution_count": 80,
     "metadata": {},
     "output_type": "execute_result"
    }
   ],
   "source": [
    "from abc import ABC, abstractmethod\n",
    "class Animal(ABC):\n",
    "    @abstractmethod\n",
    "    def __init__(self) -> None:\n",
    "        super().__init__()\n",
    "        self.living_thing : bool = True \n",
    "    @abstractmethod\n",
    "    def eating(self, food : str):\n",
    "        pass\n",
    "\n",
    "class Cat(Animal):\n",
    "    def __init__(self) -> None:\n",
    "        super().__init__()\n",
    "    def eating(self, food: str):\n",
    "        return f\"Cat is eating {food}\"\n",
    "    \n",
    "\n",
    "data : Cat = Cat()\n",
    "data.eating(\"mouse\")"
   ]
  }
 ],
 "metadata": {
  "kernelspec": {
   "display_name": "python12",
   "language": "python",
   "name": "python3"
  },
  "language_info": {
   "codemirror_mode": {
    "name": "ipython",
    "version": 3
   },
   "file_extension": ".py",
   "mimetype": "text/x-python",
   "name": "python",
   "nbconvert_exporter": "python",
   "pygments_lexer": "ipython3",
   "version": "3.12.0"
  },
  "orig_nbformat": 4
 },
 "nbformat": 4,
 "nbformat_minor": 2
}
