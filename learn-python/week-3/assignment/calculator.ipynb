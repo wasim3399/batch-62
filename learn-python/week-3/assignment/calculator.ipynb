{
 "cells": [
  {
   "cell_type": "code",
   "execution_count": 2,
   "metadata": {},
   "outputs": [
    {
     "name": "stdout",
     "output_type": "stream",
     "text": [
      "Select operation:\n",
      "1. Add\n",
      "2. Subtract\n",
      "3. Multiply\n",
      "4. Divide\n",
      "The result is: -1.0\n"
     ]
    }
   ],
   "source": [
    "def add(x, y):\n",
    "    return x + y\n",
    "\n",
    "def subtract(x, y):\n",
    "    return x - y\n",
    "\n",
    "def multiply(x, y):\n",
    "    return x * y\n",
    "\n",
    "def divide(x, y):\n",
    "    if y == 0:\n",
    "        return \"Error: Division by zero is not allowed.\"\n",
    "    return x / y\n",
    "\n",
    "def calculator():\n",
    "    print(\"Select operation:\")\n",
    "    print(\"1. Add\")\n",
    "    print(\"2. Subtract\")\n",
    "    print(\"3. Multiply\")\n",
    "    print(\"4. Divide\")\n",
    "    \n",
    "    while True:\n",
    "        choice = input(\"Enter choice (1/2/3/4): \")\n",
    "        \n",
    "        if choice in ['1', '2', '3', '4']:\n",
    "            num1 = float(input(\"Enter first number: \"))\n",
    "            num2 = float(input(\"Enter second number: \"))\n",
    "            \n",
    "            if choice == '1':\n",
    "                print(f\"The result is: {add(num1, num2)}\")\n",
    "            elif choice == '2':\n",
    "                print(f\"The result is: {subtract(num1, num2)}\")\n",
    "            elif choice == '3':\n",
    "                print(f\"The result is: {multiply(num1, num2)}\")\n",
    "            elif choice == '4':\n",
    "                print(f\"The result is: {divide(num1, num2)}\")\n",
    "            break\n",
    "        else:\n",
    "            print(\"Invalid Input. Please enter a number between 1 and 4.\")\n",
    "\n",
    "calculator()\n"
   ]
  },
  {
   "cell_type": "code",
   "execution_count": 12,
   "metadata": {},
   "outputs": [
    {
     "name": "stdout",
     "output_type": "stream",
     "text": [
      "1. Addition\n",
      "2. Subtraction\n",
      "3. Multiplication\n",
      "4. Divide\n"
     ]
    },
    {
     "ename": "TypeError",
     "evalue": "calculator() takes 0 positional arguments but 3 were given",
     "output_type": "error",
     "traceback": [
      "\u001b[0;31m---------------------------------------------------------------------------\u001b[0m",
      "\u001b[0;31mTypeError\u001b[0m                                 Traceback (most recent call last)",
      "Cell \u001b[0;32mIn[12], line 12\u001b[0m\n\u001b[1;32m     10\u001b[0m         \u001b[38;5;28mprint\u001b[39m(\u001b[38;5;124m'\u001b[39m\u001b[38;5;124mInvalid Input. Please enter a number between 1 and 4\u001b[39m\u001b[38;5;124m'\u001b[39m)\n\u001b[1;32m     11\u001b[0m     \u001b[38;5;28;01melse\u001b[39;00m:\n\u001b[0;32m---> 12\u001b[0m         \u001b[43mcalculator\u001b[49m\u001b[43m(\u001b[49m\u001b[43moperation\u001b[49m\u001b[43m,\u001b[49m\u001b[43m \u001b[49m\u001b[43mfirstInput\u001b[49m\u001b[43m,\u001b[49m\u001b[43m \u001b[49m\u001b[43msecondInput\u001b[49m\u001b[43m)\u001b[49m\n\u001b[1;32m     14\u001b[0m \u001b[38;5;28;01mexcept\u001b[39;00m \u001b[38;5;167;01mValueError\u001b[39;00m:\n\u001b[1;32m     15\u001b[0m     \u001b[38;5;28mprint\u001b[39m(\u001b[38;5;124m'\u001b[39m\u001b[38;5;124mInvalid Input. Please enter a number\u001b[39m\u001b[38;5;124m'\u001b[39m)   \n",
      "\u001b[0;31mTypeError\u001b[0m: calculator() takes 0 positional arguments but 3 were given"
     ]
    }
   ],
   "source": [
    "# print('Welcome to the Calculator. Select the operation you want to perform.')\n",
    "print('1. Addition')\n",
    "print('2. Subtraction')\n",
    "print('3. Multiplication')\n",
    "print('4. Divide')\n",
    "\n",
    "try:\n",
    "    check_operation : int = int(operation)\n",
    "    if (check_operation > 4):\n",
    "        print('Invalid Input. Please enter a number between 1 and 4')\n",
    "    else:\n",
    "        calculator(operation, firstInput, secondInput)\n",
    "        \n",
    "except ValueError:\n",
    "    print('Invalid Input. Please enter a number')   \n",
    "    exit()\n",
    "\n",
    "def calculator(operation, firstInput, secondInput):\n",
    "    if(operation == 1):\n",
    "        print('hello')\n",
    "    \n",
    "\n"
   ]
  },
  {
   "cell_type": "code",
   "execution_count": null,
   "metadata": {},
   "outputs": [],
   "source": []
  }
 ],
 "metadata": {
  "kernelspec": {
   "display_name": "Python 3 (ipykernel)",
   "language": "python",
   "name": "python3"
  },
  "language_info": {
   "codemirror_mode": {
    "name": "ipython",
    "version": 3
   },
   "file_extension": ".py",
   "mimetype": "text/x-python",
   "name": "python",
   "nbconvert_exporter": "python",
   "pygments_lexer": "ipython3",
   "version": "3.12.0"
  }
 },
 "nbformat": 4,
 "nbformat_minor": 4
}
