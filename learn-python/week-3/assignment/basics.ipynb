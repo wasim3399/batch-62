{
 "cells": [
  {
   "cell_type": "code",
   "execution_count": 11,
   "metadata": {},
   "outputs": [
    {
     "name": "stdout",
     "output_type": "stream",
     "text": [
      "Hello world\n",
      "Message updated\n",
      "Hello wasim, how are you.\n",
      "WASIM\n",
      "wasim\n",
      "Wasim\n",
      "    Quaid-e-Azam    said: Think a hundred\t times\n",
      " before you take a decision, but once that decision is taken, stand by it as one man.\n",
      "Quaid-e-Azam said: Think a hundred\t times\n",
      " before you take a decision, but once that decision is taken, stand by it as one man.\n"
     ]
    }
   ],
   "source": [
    "# 1.\n",
    "message : str = 'Hello world'\n",
    "print(message)\n",
    "# 2.\n",
    "message = 'Message updated'\n",
    "print(message)\n",
    "# 3.\n",
    "name : str = 'wasim'\n",
    "message = print(f'Hello {name}, how are you.')\n",
    "# 4.\n",
    "print(name.upper())\n",
    "print(name.lower())\n",
    "print(name.title())"
   ]
  },
  {
   "cell_type": "code",
   "execution_count": 13,
   "metadata": {},
   "outputs": [
    {
     "name": "stdout",
     "output_type": "stream",
     "text": [
      "    Quaid-e-Azam    said: Think a hundred\t times\n",
      " before you take a decision, but once that decision is taken, stand by it as one man.\n",
      "Quaid-e-Azam said: Think a hundred  times  before you take a decision, but once that decision is taken, stand by it as one man.\n"
     ]
    }
   ],
   "source": [
    "import re\n",
    "# 5, 6, 7.\n",
    "author : str = '    Quaid-e-Azam   '\n",
    "quote : str = 'Think a hundred\\t times\\n before you take a decision, but once that decision is taken, stand by it as one man.'\n",
    "\n",
    "\n",
    "print(f'{author} said: {quote}')\n",
    "print(f'{author.strip()} said: {re.sub(r'[\\t\\n]', ' ', quote)}')"
   ]
  },
  {
   "cell_type": "code",
   "execution_count": 19,
   "metadata": {},
   "outputs": [
    {
     "name": "stdout",
     "output_type": "stream",
     "text": [
      "6\n",
      "2 1\n",
      "blue\n",
      "black\n",
      "Buddy\n",
      "Max\n"
     ]
    }
   ],
   "source": [
    "# 8, 9, 10, 11\n",
    "a, b, c = 1, 2, 3\n",
    "print(a + b + c)\n",
    "\n",
    "a, b = b, a\n",
    "print(a, b)\n",
    "\n",
    "color : str = 'blue'\n",
    "print(color)\n",
    "color = 'black'\n",
    "print(color)\n",
    "\n",
    "pet_name : str = 'Buddy'\n",
    "print(pet_name)\n",
    "pet_name = 'Max'\n",
    "print(pet_name)"
   ]
  },
  {
   "cell_type": "code",
   "execution_count": 22,
   "metadata": {},
   "outputs": [
    {
     "name": "stdout",
     "output_type": "stream",
     "text": [
      "sunshine\n"
     ]
    },
    {
     "ename": "NameError",
     "evalue": "name 'updated_text' is not defined",
     "output_type": "error",
     "traceback": [
      "\u001b[1;31m---------------------------------------------------------------------------\u001b[0m",
      "\u001b[1;31mNameError\u001b[0m                                 Traceback (most recent call last)",
      "Cell \u001b[1;32mIn[22], line 4\u001b[0m\n\u001b[0;32m      2\u001b[0m text : \u001b[38;5;28mstr\u001b[39m \u001b[38;5;241m=\u001b[39m \u001b[38;5;124m'\u001b[39m\u001b[38;5;124msunshine\u001b[39m\u001b[38;5;124m'\u001b[39m\n\u001b[0;32m      3\u001b[0m \u001b[38;5;28mprint\u001b[39m(text)\n\u001b[1;32m----> 4\u001b[0m \u001b[38;5;28mprint\u001b[39m(\u001b[43mupdated_text\u001b[49m)\n",
      "\u001b[1;31mNameError\u001b[0m: name 'updated_text' is not defined"
     ]
    }
   ],
   "source": [
    "# 12.\n",
    "text : str = 'sunshine'\n",
    "print(text)\n",
    "print(updated_text)"
   ]
  },
  {
   "cell_type": "code",
   "execution_count": 29,
   "metadata": {},
   "outputs": [
    {
     "name": "stdout",
     "output_type": "stream",
     "text": [
      "10\n",
      "122\n",
      "lahore\n",
      "karachi\n",
      "Python Programming\n",
      "python programming\n",
      "PYTHON PROGRAMMING\n",
      "Current temperature is 25\n",
      "Nature's first green is gold,\n",
      "Her hardest hue to hold.\n",
      "Her early leaf's a flower;\n",
      "But only so an hour.\n",
      "\n"
     ]
    }
   ],
   "source": [
    "# 13- 19\n",
    "score : int = 10\n",
    "print(score)\n",
    "score = 122\n",
    "print(score)\n",
    "\n",
    "city : str = 'lahore'\n",
    "print(city)\n",
    "city = 'karachi'\n",
    "print(city)\n",
    "\n",
    "text : str = 'pythoN Programming'\n",
    "print(text.title())\n",
    "print(text.lower())\n",
    "print(text.upper())\n",
    "\n",
    "temp : int = 25\n",
    "print(f'Current temperature is {temp}')\n",
    "\n",
    "print('''Nature's first green is gold,\n",
    "Her hardest hue to hold.\n",
    "Her early leaf's a flower;\n",
    "But only so an hour.\n",
    "''')"
   ]
  }
 ],
 "metadata": {
  "kernelspec": {
   "display_name": "Python 3",
   "language": "python",
   "name": "python3"
  },
  "language_info": {
   "codemirror_mode": {
    "name": "ipython",
    "version": 3
   },
   "file_extension": ".py",
   "mimetype": "text/x-python",
   "name": "python",
   "nbconvert_exporter": "python",
   "pygments_lexer": "ipython3",
   "version": "3.12.2"
  }
 },
 "nbformat": 4,
 "nbformat_minor": 2
}
